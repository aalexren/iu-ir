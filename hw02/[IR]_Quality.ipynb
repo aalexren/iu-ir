{
  "cells": [
    {
      "cell_type": "markdown",
      "source": [
        "### Artem Chernitsa, B20-AI, a.chernitsa@innopolis.university"
      ],
      "metadata": {
        "id": "lVjLRcmV9Uw5"
      }
    },
    {
      "cell_type": "markdown",
      "metadata": {
        "id": "9QsJqGhY9TH2"
      },
      "source": [
        "# 1. Measure and improve\n",
        "\n",
        "How do we know that search engine's quality improved (or at least haven't deteriorated) because of our changes?\n",
        "\n",
        "All we need is a way to ***evaluate*** our search engine. We will consider some of the popular evaluation techniques:\n",
        "\n",
        "1. Mean Average Precision\n",
        "2. 11-Point Interpolated Average\n",
        "3. Normalized Discounted Cumulative Gain (NDCG)\n",
        "4. pFound\n",
        "\n",
        "<!--We will apply them in the context of ranking with language models and will compare two ways of smoothing: additive and Jelinek-Mercer smoothing.\n",
        "-->\n",
        "\n",
        "It's best to go through the [book](https://nlp.stanford.edu/IR-book/pdf/irbookonlinereading.pdf) *chapter 8*, concretely, *8.4* to understand the key concepts of this lab. Here we will only present some excerpts from it."
      ]
    },
    {
      "cell_type": "markdown",
      "metadata": {
        "id": "_9eUWwhc9TH5"
      },
      "source": [
        "## 1.1. [10] Mean Average Precision\n",
        "\n",
        "The most standard metric among the TREC community is *Mean Average Precision* *(MAP)*, which provides a single-figure measure of quality across recall levels. Among evaluation measures, MAP has been shown to have especially good discrimination and stability. For a single information need, Average Precision is the average of the precision value obtained for the set of top $k$ documents existing\n",
        "after each relevant document is retrieved, and this value is then averaged over information needs (queries). \n",
        "Assume we have a bucket $Q$ of queries $q_j\\in Q$.\n",
        "If the set of **relevant documents** for an information need (query) $q_j$ is {d<sub>1</sub>, . . . d<sub>m<sub>j</sub></sub>} and R<sub>jk</sub> is the set of ranked retrieval results from the top result until you get to document d<sub>k</sub>, then\n",
        "\n",
        "![](https://i.imgur.com/EGQMHVq.png)\n",
        "\n",
        "Implement this metric in the `mean_avg_precision` function.\n",
        "\n",
        "**NB** Don't make the name of [the metric confuse you](https://towardsdatascience.com/breaking-down-mean-average-precision-map-ae462f623a52). *Average Precision* is the term, which corresponds to the area under precision-recall curve. It's computation is tricky. We suggest to start with implementing [$AveP$](https://en.wikipedia.org/wiki/Evaluation_measures_(information_retrieval)#Average_precision)."
      ]
    },
    {
      "cell_type": "code",
      "execution_count": null,
      "metadata": {
        "id": "z4d141ce9TH6"
      },
      "outputs": [],
      "source": [
        "from typing import List, Dict, Tuple\n",
        "\n",
        "def mean_avg_precision(search_results: List[List], relevance: Dict):\n",
        "    # TODO: calculate MAP score for search results, treating relevance judgments as binary - either relevant or not.\n",
        "    #\n",
        "    # search_results: list of lists of ranked results for each query [[doc_id1, doc_id2,...], ...]\n",
        "    # note that for tests to pass, the i-th result in search_results should correspond to (i+1)-th query_id.  \n",
        "    # relevance: dict, query_id:[(relevant_doc_id1, score1), (relevant_doc_id2, score2), ...]       \n",
        "    \n",
        "    mAP_sum = 0.0\n",
        "    for query_id, search_result in enumerate(search_results, 1):\n",
        "        rel_count = 0 # number of relevant document with cut-off k\n",
        "        rel_ranks = set(map(lambda doc_rank: doc_rank[0], relevance[query_id])) # make binary judgements\n",
        "        P_k_sum = 0.0 # sum of precisions with cut-off k\n",
        "        for pos, doc_id in enumerate(search_result, 1):\n",
        "            if doc_id in rel_ranks:\n",
        "                rel_count += 1\n",
        "                P_k_sum += rel_count / pos\n",
        "        AP = P_k_sum / rel_count if rel_count else 0.0\n",
        "        \n",
        "        mAP_sum += AP\n",
        "    \n",
        "    mAP = mAP_sum / len(search_results) # mean of all queries\n",
        "    return mAP "
      ]
    },
    {
      "cell_type": "markdown",
      "metadata": {
        "id": "E84p4inW9TH8"
      },
      "source": [
        "### 1.1.1. Tests"
      ]
    },
    {
      "cell_type": "code",
      "execution_count": null,
      "metadata": {
        "colab": {
          "base_uri": "https://localhost:8080/"
        },
        "id": "dBEQ9K7k9TH8",
        "outputId": "1ff3f075-2851-478d-eaf0-bfe65ddb7936"
      },
      "outputs": [
        {
          "output_type": "stream",
          "name": "stdout",
          "text": [
            "map_test 0.6464285714285715\n"
          ]
        }
      ],
      "source": [
        "import numpy as np\n",
        "\n",
        "test_relevance = {1: [(9, 1), (1, 2), (8, 3)], 2: [(5, 1), (9, 2), (6, 3)], \n",
        "                  3: [(9, 1), (4, 2), (6, 3)], 4: [(10, 1), (4, 2), (7, 3)], \n",
        "                  5: [(4, 1), (2, 2), (8, 3)], 6: [(2, 1), (9, 2), (4, 3)], \n",
        "                  7: [(1, 1), (2, 2), (3, 3)], 8: [(3, 1), (2, 2), (6, 3)], \n",
        "                  9: [(1, 1), (4, 2), (3, 3)], 10: [(10, 1), (7, 2), (8, 3)]}\n",
        "test_results = [[4, 5, 3, 6, 1, 2, 8, 9, 10, 7], [7, 5, 6, 3, 1, 8, 9, 4, 2, 10], \n",
        "                [8, 3, 4, 5, 9, 6, 1, 10, 2, 7], [4, 5, 7, 3, 6, 10, 1, 9, 2, 8], \n",
        "                [4, 8, 3, 5, 6, 7, 2, 1, 10, 9], [9, 7, 6, 5, 2, 4, 10, 1, 3, 8], \n",
        "                [3, 1, 5, 2, 10, 6, 7, 9, 8, 4], [9, 2, 4, 10, 8, 3, 7, 6, 1, 5], \n",
        "                [3, 4, 6, 1, 5, 10, 7, 2, 8, 9], [8, 10, 4, 1, 3, 7, 5, 6, 9, 2]]\n",
        "\n",
        "\n",
        "map_test = mean_avg_precision(test_results, test_relevance)\n",
        "print(\"map_test\", map_test)\n",
        "assert np.isclose(map_test, 0.646, atol=1e-03)\n",
        "assert mean_avg_precision(test_results[:5], test_relevance) > mean_avg_precision(test_results[5:10], test_relevance)"
      ]
    },
    {
      "cell_type": "markdown",
      "metadata": {
        "id": "TgiXPpAD9TH9"
      },
      "source": [
        "## 1.2. [15] 11-Point Interpolated Average\n",
        "\n",
        "In a ranked retrieval context, appropriate sets of retrieved documents are naturally given by the top k retrieved documents. For each such set, precision and recall values can be plotted to give a precision-recall curve, such as this one (blue line):\n",
        "\n",
        "![](https://i.imgur.com/QnvDLAJ.png)\n",
        "\n",
        "Precision-recall curves have a distinctive saw-tooth shape: if the *(k + 1)<sup>th</sup>* document retrieved is nonrelevant then recall is the same as for the top k documents, but precision has dropped. If it is relevant, then both precision and recall increase, and the curve jags up and to the right.\n",
        "\n",
        "It is often useful to remove these jiggles and the standard way to do this is with an *interpolated precision*: the interpolated precision *p<sub>interp</sub>* at a certain recall level *r* is defined as the highest precision found for any recall level *r′* ≥ *r*:\n",
        "\n",
        "![](https://i.imgur.com/GMl2rQw.png)\n",
        "\n",
        "The justification is that almost anyone would be prepared to look at a few more documents if it would increase the percentage of the viewed set that were relevant (that is, if the precision of the larger set is higher). Interpolated precision is shown by a red line in the figure above.\n",
        "\n",
        "Examining this information for a single query may be useful, but usually we are more interested in a composite metrics, which will score over all test queries. The traditional way of doing this is the *11-point interpolated average*. For each information need, the interpolated precision is measured at the 11 recall levels of 0.0, 0.1, 0.2, . . . , 1.0. Then we average interpolated precision over all queries in the test collection and plot, like here:\n",
        "\n",
        "![](https://i.imgur.com/6wDmtp2.png)\n",
        "\n",
        "\n",
        "Plotting a number of such graphs for different versions of search engine on the same plot helps to compare their performance.\n",
        "\n",
        "You need to incorporate this logic into `eleven_points_interpolated_avg` function. Break it down to subfuctions as it seems necessary to you."
      ]
    },
    {
      "cell_type": "code",
      "execution_count": null,
      "metadata": {
        "id": "Fu-8hhSi9TH-"
      },
      "outputs": [],
      "source": [
        "import numpy as np\n",
        "import matplotlib.pyplot as plt\n",
        "\n",
        "def plot_iaprc(precision: List, recall: List):\n",
        "    \"\"\"\n",
        "    Plot interpolated average precision recall curve.\n",
        "    \"\"\"\n",
        "\n",
        "    plt.figure(figsize=(10,6))\n",
        "    plt.plot(recall, precision, \"bo--\")\n",
        "    plt.xlabel(\"Recall\")\n",
        "    plt.ylabel(\"Precision\")\n",
        "    plt.show()\n",
        "\n",
        "\n",
        "def interpolate_precision(precision: List, recall: List):\n",
        "    # pr_inter(r^) = max pr(r), r:r >= r^\n",
        "    pr_inter = []\n",
        "    re_ranges: List[Tuple] = []\n",
        "    pr_max = precision[0] # max precision at recall level r\n",
        "    re_prev = recall[0]\n",
        "    for idx, re, pr in zip(range(len(recall)), recall, precision):\n",
        "        if re_prev >= re:\n",
        "            pr_max = max(pr_max, pr)\n",
        "        else:\n",
        "            re_ranges.append((re_prev, pr_max))\n",
        "            re_prev = re\n",
        "            pr_max = pr\n",
        "        pr_inter.append(pr_max)\n",
        "    re_ranges.append((re_prev, pr_max))\n",
        "    if len(re_ranges) == 1:\n",
        "        re_ranges.extend(re_ranges)\n",
        "\n",
        "    # In short, this is the task of finding the maximum on the segment.\n",
        "    # Solstarting from the end of the array.\n",
        "    eleven_recall_points = np.arange(0.0, 1.0 + 0.1, 0.1) # X axis\n",
        "    eleven_precision_points = []\n",
        "    re_ranges_idx = len(re_ranges) - 1\n",
        "    re_prev, pr_prev = re_ranges[re_ranges_idx]\n",
        "    pr_max = pr_prev\n",
        "    re_ranges_idx -= 1\n",
        "    for re_point in eleven_recall_points[::-1]:\n",
        "        re_range = re_ranges[re_ranges_idx]\n",
        "        re, pr = re_range # recall value, max precision\n",
        "        if re_point <= re:\n",
        "            re_prev, pr_prev = re, pr\n",
        "            pr_max = max(pr_max, pr)\n",
        "\n",
        "            if re_ranges_idx - 1 >= 0:\n",
        "                re_ranges_idx -= 1\n",
        "        \n",
        "        eleven_precision_points.append(pr_max)\n",
        "\n",
        "    return eleven_precision_points[::-1]\n",
        "\n",
        "def eleven_points_interpolated_avg(search_results: List[List], relevance: Dict, plot=True):\n",
        "    # TODO: return 11-points interpolated average over all queries. Refer to chapter 8.4 for explanation.\n",
        "    # First calculate values of precision-recall curve for each query, interpolate them, and average over all queries.\n",
        "    # This function is intended to use when for each query all documents are scored until the last relevant element\n",
        "    # is met. Treats relevance judgments as binary - either relevant or not.\n",
        "    # note that for tests to pass, the i-th result in search_results should correspond to (i+1)-th query_id.\n",
        "    #\n",
        "    # search_results: list of lists of ranked results for each query [[doc_id1, doc_id2,...], ...]\n",
        "    # note that for tests to pass, the i-th result in search_results should correspond to (i+1)-th query_id.  \n",
        "    # relevance: dict, query_id:[(relevant_doc_id1, score1), (relevant_doc_id2, score2), ...]\n",
        "    # return: interpolated_avg, list of 11 values\n",
        "\n",
        "    Pr_inters = []\n",
        "    for query_id, search_result in enumerate(search_results, 1):\n",
        "        rel_count = 0 # number of relevant document with cut-off k\n",
        "        rel_ranks = set(map(lambda doc_rank: doc_rank[0], relevance[query_id])) # make binary judgements\n",
        "        Pr, Re = [], [] # Precision values for Recall levels\n",
        "        for pos, doc_id in enumerate(search_result, 1):\n",
        "            if doc_id in rel_ranks:\n",
        "                rel_count += 1\n",
        "            Pr.append(rel_count / pos) # common precision\n",
        "            Re.append(rel_count / len(rel_ranks)) # common recall\n",
        "        Pr_inter = np.array(interpolate_precision(Pr, Re))\n",
        "        Pr_inters.append(Pr_inter)\n",
        "    Pr_inters = np.array(Pr_inters)\n",
        "\n",
        "    Pr_inters_avgs = []\n",
        "    for i in range(len(Pr_inters[0])):\n",
        "        AP = Pr_inters[:,i].sum() / len(Pr_inters)\n",
        "        Pr_inters_avgs.append(AP)\n",
        "\n",
        "    if plot:\n",
        "        plot_iaprc(Pr_inters_avgs, np.arange(0.0, 1.0 + 0.1, 0.1))\n",
        "\n",
        "    return Pr_inters_avgs"
      ]
    },
    {
      "cell_type": "markdown",
      "metadata": {
        "id": "RRYDlKHQ9TH_"
      },
      "source": [
        "### 1.2.1.Tests"
      ]
    },
    {
      "cell_type": "code",
      "source": [
        "inter_prec = interpolate_precision([1., 0.5, 0.67, 0.5, 0.4, 0.5, 0.43], [0.33, 0.33, 0.67, 0.67, 0.67, 1., 1.])\n",
        "assert [1., 1., 1., 1., 0.67, 0.67, 0.67, 0.5, 0.5, 0.5, 0.5] == inter_prec"
      ],
      "metadata": {
        "id": "ZpU4boBUgfdK"
      },
      "execution_count": null,
      "outputs": []
    },
    {
      "cell_type": "code",
      "execution_count": null,
      "metadata": {
        "colab": {
          "base_uri": "https://localhost:8080/",
          "height": 388
        },
        "id": "ENBENpbg9TH_",
        "outputId": "107b65e8-2341-4128-d980-b646175ca34b"
      },
      "outputs": [
        {
          "output_type": "display_data",
          "data": {
            "text/plain": [
              "<Figure size 720x432 with 1 Axes>"
            ],
            "image/png": "[encoded data removed]"
          },
          "metadata": {
            "needs_background": "light"
          }
        }
      ],
      "source": [
        "eleven_test = eleven_points_interpolated_avg(test_results, test_relevance, plot=True)\n",
        "assert all(eleven_test[k] >= eleven_test[k+1] for k in range(len(eleven_test)-1))"
      ]
    },
    {
      "cell_type": "markdown",
      "metadata": {
        "id": "jBOosNNv9TIB"
      },
      "source": [
        "## 1.3. [10] Normalized Discounted Cumulative Gain\n",
        "\n",
        "NDCG metric is designed for situations of non-binary notions of relevance. It is evaluated over some number $k$ of top search results (in our case we will evaluate over the whole dataset, since it is small). \n",
        "\n",
        "For a set of queries $Q$, let $R(j,d)$ be the relevance score assessors gave to document $d$ for query $j$. Then,\n",
        "\n",
        "![](https://i.imgur.com/LLogCYa.png)\n",
        "\n",
        "where $Z_{kj}$ is a normalization factor calculated to make it so that a perfect ranking’s NDCG at $k$ for query $j$ is 1. In other words, we divide calculated DCG score by ideal DCG score. \n",
        "\n",
        "Implement this metric in `NDCG` function."
      ]
    },
    {
      "cell_type": "code",
      "execution_count": null,
      "metadata": {
        "id": "4Hn_kidQ9TIB"
      },
      "outputs": [],
      "source": [
        "import math \n",
        "\n",
        "def NDCG(search_results, relevance):\n",
        "    # TODO: compute NDCG score for search results. Here relevance is not considered as binary - the bigger\n",
        "    # the judgement score is, the more relevant is the document to a query. Because in our cranfield dataset relevance\n",
        "    # judgements are presented in a different way (1 is most relevant, 4 is least), we will need to do smth with it. \n",
        "    # The simplest is to invert it, replacing each score with (5-score). For example, if the score was 2, it becomes 5-2=3.\n",
        "    # To find normalization factor for each query, think in this direction - for this particular query what would be an\n",
        "    # ideal DCG score? What documents should have (ideally) been returned by the search engine to maximize the DCG score?\n",
        "    # When you find it, just normalize the real DCG score by ideal DCG score, that's it.\n",
        "    #\n",
        "    # search_results: list of lists of ranked results for each query [[doc_id1, doc_id2,...], ...]\n",
        "    # note that for tests to pass, the i-th result in search_results should correspond to (i+1)-th query_id.  \n",
        "    # relevance: dict, query_id:[(relevant_doc_id1, score1), (relevant_doc_id2, score2), ...]\n",
        "\n",
        "    # Invert relevance ranks.\n",
        "    # !!!!!!!!!!!!!!!!!!!!!!!!!!!!!!!!!!!!!!!!!!!!!!!!!!!!!!!!!!!!!!!!!!!!!!!!!!!!!!!!!!!!\n",
        "    # !!!!!!!!!!!!!!!!!!!!!!!!!!!!!!!!!!!!!!!!!!!!!!!!!!!!!!!!!!!!!!!!!!!!!!!!!!!!!!!!!!!!\n",
        "    # !!!!!!!!!!!!!!!!!!!!!!!!!!!!!!!!!!!!!!!!!!!!!!!!!!!!!!!!!!!!!!!!!!!!!!!!!!!!!!!!!!!!\n",
        "    # !!!!!!!!!!!!!!!!!!!!!!!!!!!!!!!!!!!!!!!!!!!!!!!!!!!!!!!!!!!!!!!!!!!!!!!!!!!!!!!!!!!!\n",
        "    # !!!!!!!!!!!!!!!!!!!!!!!!!!!!!!!!!!!!!!!!!!!!!!!!!!!!!!!!!!!!!!!!!!!!!!!!!!!!!!!!!!!!\n",
        "    # !!!!!!!!!!!!!!!!!!!!!!!!!!!!!!!!!!!!!!!!!!!!!!!!!!!!!!!!!!!!!!!!!!!!!!!!!!!!!!!!!!!!\n",
        "    # WARNING! Error in task description: score should be (4 - rank) / 3 for given formula\n",
        "    # !!!!!!!!!!!!!!!!!!!!!!!!!!!!!!!!!!!!!!!!!!!!!!!!!!!!!!!!!!!!!!!!!!!!!!!!!!!!!!!!!!!!\n",
        "    # !!!!!!!!!!!!!!!!!!!!!!!!!!!!!!!!!!!!!!!!!!!!!!!!!!!!!!!!!!!!!!!!!!!!!!!!!!!!!!!!!!!!\n",
        "    # !!!!!!!!!!!!!!!!!!!!!!!!!!!!!!!!!!!!!!!!!!!!!!!!!!!!!!!!!!!!!!!!!!!!!!!!!!!!!!!!!!!!\n",
        "    # !!!!!!!!!!!!!!!!!!!!!!!!!!!!!!!!!!!!!!!!!!!!!!!!!!!!!!!!!!!!!!!!!!!!!!!!!!!!!!!!!!!!\n",
        "    # !!!!!!!!!!!!!!!!!!!!!!!!!!!!!!!!!!!!!!!!!!!!!!!!!!!!!!!!!!!!!!!!!!!!!!!!!!!!!!!!!!!!\n",
        "    relevance_inv = {k: [(doc, 5 - rank) for doc, rank in v] for k, v in relevance.items()}\n",
        "\n",
        "    IDCGs = []\n",
        "    for query_id, docs in relevance_inv.items():\n",
        "        IDCG = 0.\n",
        "        for idx, doc in enumerate(docs, 1):\n",
        "            id, rank = doc\n",
        "            IDCG += (2 ** rank - 1) / math.log2(idx + 1)\n",
        "        IDCGs.append(IDCG)\n",
        "    # print(IDCGs)\n",
        "\n",
        "    DCGs = []\n",
        "    for query_id, search_result in enumerate(search_results, 1):\n",
        "        rel_docs = {doc[0]: doc[1] for doc in relevance_inv[query_id]}\n",
        "        DCG = 0\n",
        "        for doc_pos, doc_id in enumerate(search_result, 1):\n",
        "            if doc_id in rel_docs:\n",
        "                rank = rel_docs[doc_id]\n",
        "                DCG += (2 ** rank - 1) / math.log2(doc_pos + 1)\n",
        "        DCGs.append(DCG)\n",
        "    # print(DCGs)\n",
        "\n",
        "    nDCG = sum([DCG / IDCG for DCG, IDCG in zip(DCGs, IDCGs)]) / len(search_results)\n",
        "    return nDCG"
      ]
    },
    {
      "cell_type": "markdown",
      "source": [
        "More information here: https://towardsdatascience.com/normalized-discounted-cumulative-gain-37e6f75090e9"
      ],
      "metadata": {
        "id": "B1KP-kUYS-TZ"
      }
    },
    {
      "cell_type": "markdown",
      "metadata": {
        "id": "CSWJQkDn9TIC"
      },
      "source": [
        "### 1.3.1. Tests"
      ]
    },
    {
      "cell_type": "code",
      "execution_count": null,
      "metadata": {
        "colab": {
          "base_uri": "https://localhost:8080/"
        },
        "id": "sVrSrzRl9TIC",
        "outputId": "586a07b8-0350-411e-fa27-8f32f3b4c63f"
      },
      "outputs": [
        {
          "output_type": "stream",
          "name": "stdout",
          "text": [
            "ndcg_test 0.6409675295633275\n"
          ]
        }
      ],
      "source": [
        "ndcg_test = NDCG(test_results, test_relevance)\n",
        "print(\"ndcg_test\", ndcg_test)\n",
        "assert np.isclose(ndcg_test, 0.640, atol=1e-03)\n",
        "assert NDCG(test_results[:5], test_relevance) < NDCG(test_results[5:10], test_relevance)"
      ]
    },
    {
      "cell_type": "markdown",
      "metadata": {
        "id": "g366qzE-9TIC"
      },
      "source": [
        "## 1.4. [15] pFound ## \n",
        "**pFound** -- ranking metric invented in [Yandex](http://romip.ru/romip2009/15_yandex.pdf). This metric models user behaviour when looking at the search engine representation page (SERP). Metric assumes a user is inspecting a list from the top to the bottom. There are 2 global parameters, controlling behaviour:\n",
        "- `pBreak` -- how probable, that the user will become tired and just quit at this position (`0.15` by default).\n",
        "- `pRel` -- how probable the user will click the document if this document is relevant (`0.4` by default for a relevan document, `0` is given to irrelevant).\n",
        "\n",
        "Then, to compute pFound for the exact page we do:\n",
        "\n",
        "$pLook_i = pLook_{i-1}*(1 - pBreak)*(1 - pRel_{i-1})$\n",
        "\n",
        "$pFound = \\sum_{i=1}^{N}pLook_i*pRel_i$\n",
        "\n",
        "Implement `pFound` below."
      ]
    },
    {
      "cell_type": "code",
      "execution_count": null,
      "metadata": {
        "id": "vaO9hYOz9TID"
      },
      "outputs": [],
      "source": [
        "import math \n",
        "\n",
        "def pFound(search_results, relevance):\n",
        "    # TODO: calculate pFound score for search results, treating relevance judgments as binary - either relevant or not\n",
        "    \n",
        "    # search_results: list of lists of ranked results for each query [[doc_id1, doc_id2,...], ...]\n",
        "    # relevance: dict, query_id:[(relevant_doc_id1, score1), (relevant_doc_id2, score2), ...]\n",
        "    # return average value for search results \n",
        "\n",
        "    pFounds = []\n",
        "    pBreak = 0.15\n",
        "    for query_id, search_result in enumerate(search_results, 1):\n",
        "        rel_docs = {doc[0]: doc[1] for doc in relevance[query_id]}\n",
        "        pLook = [1] + [0] * (len(search_result) - 1)\n",
        "        pRel = [0.4 if doc in rel_docs else 0 for doc in search_result]\n",
        "\n",
        "        for idx, doc_id in enumerate(search_result[1:], 1):\n",
        "            pLook[idx] = pLook[idx - 1] * (1 - pRel[idx - 1]) * (1 - pBreak)\n",
        "        \n",
        "        pFound = 0.0\n",
        "        for idx, doc_id in enumerate(search_result):\n",
        "            pFound += pLook[idx] * pRel[idx]\n",
        "        \n",
        "        pFounds.append(pFound)\n",
        "\n",
        "    pFound_avg = sum(pFounds) / len(search_results)\n",
        "    return pFound_avg"
      ]
    },
    {
      "cell_type": "markdown",
      "metadata": {
        "id": "yyCVCYES9TID"
      },
      "source": [
        "### 1.4.1. Tests"
      ]
    },
    {
      "cell_type": "code",
      "execution_count": null,
      "metadata": {
        "colab": {
          "base_uri": "https://localhost:8080/"
        },
        "id": "NM15If9K9TID",
        "outputId": "39d26767-7fd7-49d3-9b3d-4e9591dd2af5"
      },
      "outputs": [
        {
          "output_type": "stream",
          "name": "stdout",
          "text": [
            "pFound 0.5821558180674999\n"
          ]
        }
      ],
      "source": [
        "pFound_test = pFound(test_results, test_relevance)\n",
        "print(\"pFound\", pFound_test)\n",
        "assert np.isclose(pFound_test, 0.582, atol=1e-03)\n",
        "assert pFound(test_results[:5], test_relevance) > pFound(test_results[5:10], test_relevance)"
      ]
    }
  ],
  "metadata": {
    "kernelspec": {
      "display_name": "Python 3 (ipykernel)",
      "language": "python",
      "name": "python3"
    },
    "language_info": {
      "codemirror_mode": {
        "name": "ipython",
        "version": 3
      },
      "file_extension": ".py",
      "mimetype": "text/x-python",
      "name": "python",
      "nbconvert_exporter": "python",
      "pygments_lexer": "ipython3",
      "version": "3.9.7"
    },
    "colab": {
      "provenance": []
    }
  },
  "nbformat": 4,
  "nbformat_minor": 0
}