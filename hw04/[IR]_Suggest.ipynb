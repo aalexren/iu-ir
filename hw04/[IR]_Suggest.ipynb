{
  "cells": [
    {
      "cell_type": "markdown",
      "metadata": {
        "id": "siTLHJNOKPdU"
      },
      "source": [
        "# Homework 4. Suggest\n",
        "\n",
        "Artem Chernitsa, a.chernitsa@innopolis.university, B20-AI-01  "
      ]
    },
    {
      "cell_type": "markdown",
      "metadata": {
        "id": "B6r-KGsqKPdX"
      },
      "source": [
        "One of the strategies to improve user experience is to provide user with hints, or, otherwise, to autocomplete his queries. Let's consider suggest.\n",
        "\n",
        "Today we will practice generating suggestions using [Trie](https://en.wikipedia.org/wiki/Trie) data structure (prefix tree), see the example below.\n",
        "\n",
        "Plan of your homework:\n",
        "\n",
        "1. Build Trie based on real search query data, provided by AOL company;\n",
        "2. Generate suggestion based on a trie;\n",
        "3. Measure suggestion speed;\n",
        "4. [M] Add spellcheck to suggest.\n",
        "\n",
        "\n",
        "![image](https://www.ritambhara.in/wp-content/uploads/2017/05/Screen-Shot-2017-05-01-at-4.01.38-PM.png)\n",
        "\n",
        "## 0. Install Trie data structure support\n",
        "\n",
        "You are free to use any library implementation of Trie, as well as the one we suggest (read the docs before asking any questions!): https://github.com/google/pygtrie"
      ]
    },
    {
      "cell_type": "code",
      "execution_count": 1,
      "metadata": {
        "colab": {
          "base_uri": "https://localhost:8080/"
        },
        "id": "8Fe5uHaZKPdY",
        "outputId": "d0dd49dd-1f92-4a31-cda7-859e2f7388cf"
      },
      "outputs": [
        {
          "output_type": "stream",
          "name": "stdout",
          "text": [
            "Looking in indexes: https://pypi.org/simple, https://us-python.pkg.dev/colab-wheels/public/simple/\n",
            "Collecting pygtrie\n",
            "  Downloading pygtrie-2.5.0-py3-none-any.whl (25 kB)\n",
            "Collecting pyspellchecker\n",
            "  Downloading pyspellchecker-0.7.2-py3-none-any.whl (3.4 MB)\n",
            "\u001b[2K     \u001b[90m━━━━━━━━━━━━━━━━━━━━━━━━━━━━━━━━━━━━━━━━\u001b[0m \u001b[32m3.4/3.4 MB\u001b[0m \u001b[31m34.0 MB/s\u001b[0m eta \u001b[36m0:00:00\u001b[0m\n",
            "\u001b[?25hRequirement already satisfied: numpy in /usr/local/lib/python3.10/dist-packages (1.22.4)\n",
            "Requirement already satisfied: pandas in /usr/local/lib/python3.10/dist-packages (1.5.3)\n",
            "Requirement already satisfied: pytz>=2020.1 in /usr/local/lib/python3.10/dist-packages (from pandas) (2022.7.1)\n",
            "Requirement already satisfied: python-dateutil>=2.8.1 in /usr/local/lib/python3.10/dist-packages (from pandas) (2.8.2)\n",
            "Requirement already satisfied: six>=1.5 in /usr/local/lib/python3.10/dist-packages (from python-dateutil>=2.8.1->pandas) (1.16.0)\n",
            "Installing collected packages: pygtrie, pyspellchecker\n",
            "Successfully installed pygtrie-2.5.0 pyspellchecker-0.7.2\n"
          ]
        }
      ],
      "source": [
        "!pip install pygtrie pyspellchecker numpy pandas"
      ]
    },
    {
      "cell_type": "code",
      "execution_count": 2,
      "metadata": {
        "id": "0cT897BsKPdZ"
      },
      "outputs": [],
      "source": [
        "import os\n",
        "import math\n",
        "import gzip\n",
        "import time\n",
        "import shutil\n",
        "import itertools\n",
        "\n",
        "from collections import Counter\n",
        "\n",
        "import pygtrie\n",
        "import requests\n",
        "import numpy as np\n",
        "import pandas as pd\n",
        "import seaborn as sns\n",
        "\n",
        "from tqdm import tqdm\n",
        "from pprint import pprint\n",
        "from matplotlib import pyplot as plt\n",
        "from spellchecker import SpellChecker"
      ]
    },
    {
      "cell_type": "markdown",
      "metadata": {
        "id": "C8q-keAxKPdd"
      },
      "source": [
        "## 1. Build a trie upon a dataset\n",
        "\n",
        "### 1.1. [5] Read the dataset\n",
        "\n",
        "Download the [dataset](https://github.com/IUCVLab/information-retrieval/tree/main/datasets/aol)(we provide only the first part of the original data for simplicity (~3.5 mln queries)).\n",
        "\n",
        "Explore the data, see readme file. Load the dataset. Pass the assert."
      ]
    },
    {
      "cell_type": "code",
      "source": [
        "def download_dataset(url, filename=\"aol.txt\", data_dir=\"./data\"): \n",
        "    try: \n",
        "        os.makedirs(data_dir, exist_ok=True)\n",
        "        archivename = f\"{filename}.gz\"\n",
        "        path = os.path.join(data_dir, archivename)\n",
        "        with requests.get(url, stream=True) as r:\n",
        "            r.raise_for_status()\n",
        "            with open(path, 'wb') as f:\n",
        "                for chunk in r.iter_content(chunk_size=8192):\n",
        "                    f.write(chunk)\n",
        "\n",
        "        with gzip.open(path, mode=\"rb\") as f_in, open(os.path.join(data_dir, filename), mode=\"wb\") as f_out:\n",
        "            shutil.copyfileobj(f_in, f_out)\n",
        "\n",
        "            return True\n",
        "    except requests.exceptions.RequestException as e:\n",
        "        print(f\"Something went wrong: {e}\")\n",
        "        return False\n",
        "\n",
        "url = \"https://github.com/IUCVLab/information-retrieval/blob/main/datasets/aol/user-ct-test-collection-01.txt.gz?raw=true\"\n",
        "download_dataset(url)"
      ],
      "metadata": {
        "colab": {
          "base_uri": "https://localhost:8080/"
        },
        "id": "aaejBY_kNN9n",
        "outputId": "f062d38c-c896-4d85-f58b-87f7b867917c"
      },
      "execution_count": 3,
      "outputs": [
        {
          "output_type": "execute_result",
          "data": {
            "text/plain": [
              "True"
            ]
          },
          "metadata": {},
          "execution_count": 3
        }
      ]
    },
    {
      "cell_type": "code",
      "execution_count": 4,
      "metadata": {
        "id": "yAnpx1c_KPdf"
      },
      "outputs": [],
      "source": [
        "def read_dataset(filename=\"aol.txt\", data_dir=\"./data\"):\n",
        "    path = os.path.join(data_dir, filename)\n",
        "    df = pd.read_csv(path, delimiter = \"\\t\")\n",
        "    return df"
      ]
    },
    {
      "cell_type": "code",
      "execution_count": 5,
      "metadata": {
        "id": "YjqDcshPKPdg"
      },
      "outputs": [],
      "source": [
        "aol_data = read_dataset()\n",
        "\n",
        "assert aol_data.shape[0] == 3558411, \"Dataset size does not match\""
      ]
    },
    {
      "cell_type": "code",
      "execution_count": 6,
      "metadata": {
        "colab": {
          "base_uri": "https://localhost:8080/",
          "height": 363
        },
        "id": "AOlf9Y7PKPdg",
        "outputId": "ac8e4c13-f524-409b-81e5-ec1f2a49495e"
      },
      "outputs": [
        {
          "output_type": "execute_result",
          "data": {
            "text/plain": [
              "           AnonID                      Query            QueryTime  ItemRank  \\\n",
              "2524673   9051983                     recent  2006-05-28 00:50:04       NaN   \n",
              "848204    2157071                www.myspace  2006-05-13 16:12:29       NaN   \n",
              "144622     352728                     poseys  2006-05-13 10:40:53       4.0   \n",
              "2248787   7271448              nurses salary  2006-05-08 22:04:55       1.0   \n",
              "1726042   4777890  whitetail mining accident  2006-03-18 02:11:54       NaN   \n",
              "1668846   4517678  bookbinding washington dc  2006-05-15 12:20:52       1.0   \n",
              "2359298   7969898            zacky vengeance  2006-03-31 20:59:34       NaN   \n",
              "3333533  18226183           aa.com subscribe  2006-05-12 18:47:28       1.0   \n",
              "574092    1465696    liz trotta's birth date  2006-05-08 06:02:04       NaN   \n",
              "3425012  20879890  fre-mont rideout hospital  2006-05-24 15:55:37       1.0   \n",
              "\n",
              "                                      ClickURL  \n",
              "2524673                                    NaN  \n",
              "848204                                     NaN  \n",
              "144622             http://www.findaflorist.com  \n",
              "2248787              http://www.studentdoc.com  \n",
              "1726042                                    NaN  \n",
              "1668846              http://www.superpages.com  \n",
              "2359298                                    NaN  \n",
              "3333533  http://www.freefrequentflyermiles.com  \n",
              "574092                                     NaN  \n",
              "3425012                    http://www.frhg.org  "
            ],
            "text/html": [
              "\n",
              "  <div id=\"df-a4cb258c-0d30-44a1-ba97-923806fde6ee\">\n",
              "    <div class=\"colab-df-container\">\n",
              "      <div>\n",
              "<style scoped>\n",
              "    .dataframe tbody tr th:only-of-type {\n",
              "        vertical-align: middle;\n",
              "    }\n",
              "\n",
              "    .dataframe tbody tr th {\n",
              "        vertical-align: top;\n",
              "    }\n",
              "\n",
              "    .dataframe thead th {\n",
              "        text-align: right;\n",
              "    }\n",
              "</style>\n",
              "<table border=\"1\" class=\"dataframe\">\n",
              "  <thead>\n",
              "    <tr style=\"text-align: right;\">\n",
              "      <th></th>\n",
              "      <th>AnonID</th>\n",
              "      <th>Query</th>\n",
              "      <th>QueryTime</th>\n",
              "      <th>ItemRank</th>\n",
              "      <th>ClickURL</th>\n",
              "    </tr>\n",
              "  </thead>\n",
              "  <tbody>\n",
              "    <tr>\n",
              "      <th>2524673</th>\n",
              "      <td>9051983</td>\n",
              "      <td>recent</td>\n",
              "      <td>2006-05-28 00:50:04</td>\n",
              "      <td>NaN</td>\n",
              "      <td>NaN</td>\n",
              "    </tr>\n",
              "    <tr>\n",
              "      <th>848204</th>\n",
              "      <td>2157071</td>\n",
              "      <td>www.myspace</td>\n",
              "      <td>2006-05-13 16:12:29</td>\n",
              "      <td>NaN</td>\n",
              "      <td>NaN</td>\n",
              "    </tr>\n",
              "    <tr>\n",
              "      <th>144622</th>\n",
              "      <td>352728</td>\n",
              "      <td>poseys</td>\n",
              "      <td>2006-05-13 10:40:53</td>\n",
              "      <td>4.0</td>\n",
              "      <td>http://www.findaflorist.com</td>\n",
              "    </tr>\n",
              "    <tr>\n",
              "      <th>2248787</th>\n",
              "      <td>7271448</td>\n",
              "      <td>nurses salary</td>\n",
              "      <td>2006-05-08 22:04:55</td>\n",
              "      <td>1.0</td>\n",
              "      <td>http://www.studentdoc.com</td>\n",
              "    </tr>\n",
              "    <tr>\n",
              "      <th>1726042</th>\n",
              "      <td>4777890</td>\n",
              "      <td>whitetail mining accident</td>\n",
              "      <td>2006-03-18 02:11:54</td>\n",
              "      <td>NaN</td>\n",
              "      <td>NaN</td>\n",
              "    </tr>\n",
              "    <tr>\n",
              "      <th>1668846</th>\n",
              "      <td>4517678</td>\n",
              "      <td>bookbinding washington dc</td>\n",
              "      <td>2006-05-15 12:20:52</td>\n",
              "      <td>1.0</td>\n",
              "      <td>http://www.superpages.com</td>\n",
              "    </tr>\n",
              "    <tr>\n",
              "      <th>2359298</th>\n",
              "      <td>7969898</td>\n",
              "      <td>zacky vengeance</td>\n",
              "      <td>2006-03-31 20:59:34</td>\n",
              "      <td>NaN</td>\n",
              "      <td>NaN</td>\n",
              "    </tr>\n",
              "    <tr>\n",
              "      <th>3333533</th>\n",
              "      <td>18226183</td>\n",
              "      <td>aa.com subscribe</td>\n",
              "      <td>2006-05-12 18:47:28</td>\n",
              "      <td>1.0</td>\n",
              "      <td>http://www.freefrequentflyermiles.com</td>\n",
              "    </tr>\n",
              "    <tr>\n",
              "      <th>574092</th>\n",
              "      <td>1465696</td>\n",
              "      <td>liz trotta's birth date</td>\n",
              "      <td>2006-05-08 06:02:04</td>\n",
              "      <td>NaN</td>\n",
              "      <td>NaN</td>\n",
              "    </tr>\n",
              "    <tr>\n",
              "      <th>3425012</th>\n",
              "      <td>20879890</td>\n",
              "      <td>fre-mont rideout hospital</td>\n",
              "      <td>2006-05-24 15:55:37</td>\n",
              "      <td>1.0</td>\n",
              "      <td>http://www.frhg.org</td>\n",
              "    </tr>\n",
              "  </tbody>\n",
              "</table>\n",
              "</div>\n",
              "      <button class=\"colab-df-convert\" onclick=\"convertToInteractive('df-a4cb258c-0d30-44a1-ba97-923806fde6ee')\"\n",
              "              title=\"Convert this dataframe to an interactive table.\"\n",
              "              style=\"display:none;\">\n",
              "        \n",
              "  <svg xmlns=\"http://www.w3.org/2000/svg\" height=\"24px\"viewBox=\"0 0 24 24\"\n",
              "       width=\"24px\">\n",
              "    <path d=\"M0 0h24v24H0V0z\" fill=\"none\"/>\n",
              "    <path d=\"M18.56 5.44l.94 2.06.94-2.06 2.06-.94-2.06-.94-.94-2.06-.94 2.06-2.06.94zm-11 1L8.5 8.5l.94-2.06 2.06-.94-2.06-.94L8.5 2.5l-.94 2.06-2.06.94zm10 10l.94 2.06.94-2.06 2.06-.94-2.06-.94-.94-2.06-.94 2.06-2.06.94z\"/><path d=\"M17.41 7.96l-1.37-1.37c-.4-.4-.92-.59-1.43-.59-.52 0-1.04.2-1.43.59L10.3 9.45l-7.72 7.72c-.78.78-.78 2.05 0 2.83L4 21.41c.39.39.9.59 1.41.59.51 0 1.02-.2 1.41-.59l7.78-7.78 2.81-2.81c.8-.78.8-2.07 0-2.86zM5.41 20L4 18.59l7.72-7.72 1.47 1.35L5.41 20z\"/>\n",
              "  </svg>\n",
              "      </button>\n",
              "      \n",
              "  <style>\n",
              "    .colab-df-container {\n",
              "      display:flex;\n",
              "      flex-wrap:wrap;\n",
              "      gap: 12px;\n",
              "    }\n",
              "\n",
              "    .colab-df-convert {\n",
              "      background-color: #E8F0FE;\n",
              "      border: none;\n",
              "      border-radius: 50%;\n",
              "      cursor: pointer;\n",
              "      display: none;\n",
              "      fill: #1967D2;\n",
              "      height: 32px;\n",
              "      padding: 0 0 0 0;\n",
              "      width: 32px;\n",
              "    }\n",
              "\n",
              "    .colab-df-convert:hover {\n",
              "      background-color: #E2EBFA;\n",
              "      box-shadow: 0px 1px 2px rgba(60, 64, 67, 0.3), 0px 1px 3px 1px rgba(60, 64, 67, 0.15);\n",
              "      fill: #174EA6;\n",
              "    }\n",
              "\n",
              "    [theme=dark] .colab-df-convert {\n",
              "      background-color: #3B4455;\n",
              "      fill: #D2E3FC;\n",
              "    }\n",
              "\n",
              "    [theme=dark] .colab-df-convert:hover {\n",
              "      background-color: #434B5C;\n",
              "      box-shadow: 0px 1px 3px 1px rgba(0, 0, 0, 0.15);\n",
              "      filter: drop-shadow(0px 1px 2px rgba(0, 0, 0, 0.3));\n",
              "      fill: #FFFFFF;\n",
              "    }\n",
              "  </style>\n",
              "\n",
              "      <script>\n",
              "        const buttonEl =\n",
              "          document.querySelector('#df-a4cb258c-0d30-44a1-ba97-923806fde6ee button.colab-df-convert');\n",
              "        buttonEl.style.display =\n",
              "          google.colab.kernel.accessAllowed ? 'block' : 'none';\n",
              "\n",
              "        async function convertToInteractive(key) {\n",
              "          const element = document.querySelector('#df-a4cb258c-0d30-44a1-ba97-923806fde6ee');\n",
              "          const dataTable =\n",
              "            await google.colab.kernel.invokeFunction('convertToInteractive',\n",
              "                                                     [key], {});\n",
              "          if (!dataTable) return;\n",
              "\n",
              "          const docLinkHtml = 'Like what you see? Visit the ' +\n",
              "            '<a target=\"_blank\" href=https://colab.research.google.com/notebooks/data_table.ipynb>data table notebook</a>'\n",
              "            + ' to learn more about interactive tables.';\n",
              "          element.innerHTML = '';\n",
              "          dataTable['output_type'] = 'display_data';\n",
              "          await google.colab.output.renderOutput(dataTable, element);\n",
              "          const docLink = document.createElement('div');\n",
              "          docLink.innerHTML = docLinkHtml;\n",
              "          element.appendChild(docLink);\n",
              "        }\n",
              "      </script>\n",
              "    </div>\n",
              "  </div>\n",
              "  "
            ]
          },
          "metadata": {},
          "execution_count": 6
        }
      ],
      "source": [
        "aol_data.sample(10)"
      ]
    },
    {
      "cell_type": "markdown",
      "metadata": {
        "id": "a8iddo6TKPdg"
      },
      "source": [
        "### 1.2. [10] Build a Trie\n",
        "\n",
        "We want a suggest function to be **non-sensitive to stop words** because we don't want to upset the users if they confuses/omits prepositions. Consider *\"public events in Innopolis\"* vs *\"public events at Innopolis\"* or *\"public events Innopolis\"* - they all mean the same.\n",
        "\n",
        "Build a Trie based on the dataset, **storing query statistics such as query _frequency_, urls and ranks in the nodes**. Some queries may have no associated urls, others may have multiple ranked urls. Think of the way to store this information.\n",
        "\n",
        "Pass the asserts."
      ]
    },
    {
      "cell_type": "code",
      "source": [
        "def build_aol_trie(aol_data, stops):\n",
        "    trie = pygtrie.CharTrie()\n",
        "    freqs = aol_data['Query'].value_counts()\n",
        "    \n",
        "    for _, row in tqdm(aol_data.iterrows(), total=len(aol_data)):\n",
        "        query = row['Query']\n",
        "        if pd.isna(query):\n",
        "            continue\n",
        "        _query = query[:]\n",
        "        freq = freqs.get(query, None)\n",
        "        queries = [_query[:]]\n",
        "        _query = \" \".join(w for w in _query.split() if w not in stops)\n",
        "\n",
        "        urls = [row['ClickURL']]\n",
        "        ranks = [row['ItemRank']]\n",
        "\n",
        "        if _query in trie:\n",
        "            freq, _urls, _ranks, _queries = trie[_query]\n",
        "            urls += _urls\n",
        "            ranks += _ranks\n",
        "            queries += _queries\n",
        "        trie[_query] = (freq, urls, ranks, queries)\n",
        "    return trie\n",
        "\n",
        "stops = set('a on at of to is from for and with using the in &'.split())\n",
        "aol_trie = build_aol_trie(aol_data, stops)"
      ],
      "metadata": {
        "colab": {
          "base_uri": "https://localhost:8080/"
        },
        "id": "RygtOPXXPm-n",
        "outputId": "7e234a8c-370d-4996-de6d-08dc3b6df288"
      },
      "execution_count": 7,
      "outputs": [
        {
          "output_type": "stream",
          "name": "stderr",
          "text": [
            "100%|██████████| 3558411/3558411 [13:28<00:00, 4402.71it/s]\n"
          ]
        }
      ]
    },
    {
      "cell_type": "code",
      "execution_count": 8,
      "metadata": {
        "colab": {
          "base_uri": "https://localhost:8080/"
        },
        "id": "aM8v_BJ7KPdi",
        "outputId": "c7b3d04b-efbe-4d12-948b-d37f10233a01"
      },
      "outputs": [
        {
          "output_type": "stream",
          "name": "stdout",
          "text": [
            "sample question surveys ~ (5, [nan, 'http://www.lg-employers.gov.uk', 'http://www.askemployees.com', 'http://www.custominsight.com', 'http://www.surveyconnect.com'], [nan, 1.0, 10.0, 4.0, 7.0], ['sample question surveys', 'sample question surveys', 'sample question surveys', 'sample question surveys', 'sample question surveys'])\n",
            "sample questions immigration interview ~ (1, [nan], [nan], ['sample questions for immigration interview'])\n",
            "sample questions interview ~ (1, ['http://www.quintcareers.com'], [1.0], ['sample questions for interview'])\n",
            "sample questions family interview ~ (3, ['http://jobsearchtech.about.com', 'http://www.quintcareers.com', 'http://www.grandparents-day.com'], [3.0, 5.0, 2.0], ['sample questions for family interview', 'sample questions for family interview', 'sample questions for family interview'])\n",
            "sample questions sociology race ethnicity ~ (1, [nan], [nan], ['sample questions sociology race and ethnicity'])\n",
            "sample questions biology ~ (2, ['http://www.troy.k12.ny.us', 'http://www.utexas.edu'], [6.0, 3.0], ['sample questions biology', 'sample questions biology'])\n",
            "sample questions us citizenship test ~ (1, ['http://uscis.gov'], [1.0], ['sample questions for us citizenship test'])\n",
            "sample questionarie teaching evaluation ~ (1, [nan], [nan], ['sample questionarie teaching evaluation'])\n",
            "sample questionnaire teaching evaluation ~ (5, ['http://oregonstate.edu', 'http://www.flinders.edu.au', 'http://teaching.berkeley.edu', 'http://www.usask.ca', 'http://www.surveyconsole.com'], [10.0, 9.0, 6.0, 2.0, 1.0], ['sample questionnaire teaching evaluation', 'sample questionnaire teaching evaluation', 'sample questionnaire teaching evaluation', 'sample questionnaire teaching evaluation', 'sample questionnaire teaching evaluation'])\n",
            "sample questionnaire clinical research coordinators certification ~ (1, ['http://www.pharmatech.com'], [9.0], ['sample questionnaire for clinical research coordinators certification'])\n"
          ]
        }
      ],
      "source": [
        "# test trie\n",
        "bag = []\n",
        "for key, val in aol_trie.iteritems(\"sample q\"):\n",
        "    print(key, '~', val)\n",
        "    \n",
        "    #NB: here we assume you store urls in a property of list type. But you can do something different. \n",
        "    # bag += val.urls\n",
        "    bag += val[1]\n",
        "    \n",
        "    assert \"sample question\" in key, \"All examples have `sample question` substring\"\n",
        "    assert key[:len(\"sample question\")] == \"sample question\", \"All examples have `sample question` starting string\"\n",
        "\n",
        "for url in [\"http://www.surveyconnect.com\", \"http://www.custominsight.com\", \n",
        "            \"http://jobsearchtech.about.com\", \"http://www.troy.k12.ny.us\",\n",
        "            \"http://www.flinders.edu.au\", \"http://uscis.gov\"]:\n",
        "    assert url in bag, \"This url should be in a try\""
      ]
    },
    {
      "cell_type": "markdown",
      "metadata": {
        "id": "JCRPYxN-KPdj"
      },
      "source": [
        "## 2. [15] Write a suggest function which is non-sensitive to stop words\n",
        "\n",
        "Suggest options for user query based on Trie you just built.\n",
        "Output results sorted by frequency, print query count for each suggestion. If there is an url available, print the url too. If multiple url-s are available, print the one with the highest rank (the less the better).\n",
        "\n",
        "Pass the asserts.\n",
        "\n",
        "Question for analysis: What is the empirical threshold for minimal prefix for suggest?"
      ]
    },
    {
      "cell_type": "code",
      "execution_count": 9,
      "metadata": {
        "id": "_gjK14WFKPdj"
      },
      "outputs": [],
      "source": [
        "stops = set('a on at of to is from for and with using the in &'.split())"
      ]
    },
    {
      "cell_type": "code",
      "source": [
        "def complete_user_query(query: str, trie_tree, top_k=5) -> list[str]:\n",
        "    #TODO: suggest top_k options for a user query\n",
        "    # sort results by frequency (!), \n",
        "    # suggest the QUERIES for first k ranked urls if available\n",
        "    query = query[:].lower().strip()\n",
        "    query_words = [word for word in query.split() if word not in stops]\n",
        "    query = \" \".join(query_words)\n",
        "    \n",
        "    items = list(trie_tree.iteritems(query))\n",
        "    \n",
        "    suggestions = sorted(items, key=lambda x: x[1][0], reverse=True)\n",
        "    top_k = min(top_k, len(suggestions))\n",
        "    top_suggestions = suggestions[:top_k]\n",
        "    \n",
        "    meta_data = {}\n",
        "    for idx, suggestion in enumerate(top_suggestions):\n",
        "        frequency, urls, ranks, queries = suggestion[1]\n",
        "        most_common_query = Counter(queries).most_common(1)[0][0]\n",
        "        \n",
        "        meta_data[idx + 1] = {\n",
        "            \"Suggestion\": most_common_query,\n",
        "            \"Query Count\": frequency,\n",
        "        }\n",
        "        ranked_urls = [(url, rank) for url, rank in zip(urls, ranks) if url is not None and rank is not None]\n",
        "        ranked_urls = sorted(ranked_urls, key=lambda x: x[1])\n",
        "        if len(ranked_urls) > 0:\n",
        "            meta_data[idx + 1][\"URL\"] = ranked_urls[0][0]\n",
        "            meta_data[idx + 1][\"URL rank\"] = ranked_urls[0][1]\n",
        "    \n",
        "    pprint(meta_data)\n",
        "\n",
        "    completions = [Counter(suggestion[1][3]).most_common(1)[0][0] for suggestion in top_suggestions]\n",
        "    return completions"
      ],
      "metadata": {
        "id": "My4rV8pJUyqE"
      },
      "execution_count": 10,
      "outputs": []
    },
    {
      "cell_type": "code",
      "execution_count": 11,
      "metadata": {
        "colab": {
          "base_uri": "https://localhost:8080/"
        },
        "id": "rtJlJMnZKPdk",
        "outputId": "4cca3291-f6d6-463b-eac3-c131ddb0365b"
      },
      "outputs": [
        {
          "output_type": "stream",
          "name": "stdout",
          "text": [
            "Query: trie\n",
            "Results:\n",
            "{1: {'Query Count': 5,\n",
            "     'Suggestion': 'tried and true tattoo',\n",
            "     'URL': 'http://www.triedntruetattoo.com',\n",
            "     'URL rank': 1.0},\n",
            " 2: {'Query Count': 3, 'Suggestion': 'triest', 'URL': nan, 'URL rank': nan},\n",
            " 3: {'Query Count': 3,\n",
            "     'Suggestion': 'triethanalomine',\n",
            "     'URL': 'http://avalon.unomaha.edu',\n",
            "     'URL rank': 1.0},\n",
            " 4: {'Query Count': 2,\n",
            "     'Suggestion': 'tried and failed',\n",
            "     'URL': nan,\n",
            "     'URL rank': nan},\n",
            " 5: {'Query Count': 1,\n",
            "     'Suggestion': \"tried and truechildren's consignment sale\",\n",
            "     'URL': nan,\n",
            "     'URL rank': nan}}\n",
            "['tried and true tattoo', 'triest', 'triethanalomine', 'tried and failed', \"tried and truechildren's consignment sale\"]\n",
            "{1: {'Query Count': 2,\n",
            "     'Suggestion': 'boys and girls club of conyers georgia',\n",
            "     'URL': 'http://www.bgcma.org',\n",
            "     'URL rank': 1.0}}\n"
          ]
        }
      ],
      "source": [
        "inp = \"trie\"\n",
        "print(\"Query:\", inp)\n",
        "print(\"Results:\")\n",
        "res = complete_user_query(inp, aol_trie)\n",
        "print(res)\n",
        "\n",
        "#NB we assume you return suggested query string only\n",
        "assert res[0] == \"tried and true tattoo\"\n",
        "assert res[1] == \"triest\" or res[1] == \"triethanalomine\"\n",
        "\n",
        "assert \"boys and girls club of conyers georgia\" \\\n",
        "            in complete_user_query(\"boys girls club conyers\", aol_trie, 10), \"Should be here\""
      ]
    },
    {
      "cell_type": "markdown",
      "metadata": {
        "id": "loLF2JM1KPdk"
      },
      "source": [
        "\n",
        "Based on my experimental results, I have observed that a prefix of length 4-5 can provide a sufficient level of suggestion for a user query. In other words, I was able to obtain relevant suggestions with such prefixes during my experiments."
      ]
    },
    {
      "cell_type": "markdown",
      "metadata": {
        "id": "M-YFU22wKPdl"
      },
      "source": [
        "## 3. Measure suggest speed ##\n",
        "\n",
        "### 3.1. [10] Full Trie test\n",
        "\n",
        "Check how fast your search is working. Consider changing your code if it takes too long on average.\n",
        "\n",
        "Sucess criterion:\n",
        "- there is an average and variance for **multiple runs** of the given bucket.\n",
        "- there is an average and variance for **multiple runs** of naive search in unindexed dataset."
      ]
    },
    {
      "cell_type": "code",
      "execution_count": 12,
      "metadata": {
        "id": "r29YfCCxKPdm"
      },
      "outputs": [],
      "source": [
        "inp_queries = [\"inf\", \"the best \", \"information retrieval\", \"sherlock hol\", \"carnegie mell\", \n",
        "               \"babies r\", \"new york\", \"googol\", \"inter\", \"USA sta\", \"Barbara \"]\n",
        "\n",
        "#TODO: measure average execution time and standard deviation (in milliseconds) per query and print it out\n",
        "# Repeat this for index and for no index."
      ]
    },
    {
      "cell_type": "markdown",
      "metadata": {
        "id": "zQRG5L2mKPdr"
      },
      "source": [
        "## 4. [10] Add spellchecking to your suggest\n",
        "\n",
        "Try to make your search results as close as possible. Compare top-5 results of each query with top-5 results for corrected.\n",
        "\n",
        "You can use use [pyspellchecker](https://pypi.org/project/pyspellchecker/) `candidates()` call, or use any other spellchecker implementation."
      ]
    },
    {
      "cell_type": "code",
      "source": [
        "def complete_user_query_with_spellchecker(query, trie, top_k=5) -> list[str]:\n",
        "    #TODO: suggest top_k options for a user query\n",
        "    # sort results by frequency (!!), \n",
        "    # suggest the QUERIES for first k ranked urls if available\n",
        "    pass"
      ],
      "metadata": {
        "id": "J8L73LViuFDB"
      },
      "execution_count": 13,
      "outputs": []
    },
    {
      "cell_type": "code",
      "source": [
        "inp_queries = [\"inormation retrieval\", \"shelrock hol\", \"carnagie mell\", \"babis r\", \"Barrbara \"]\n",
        "inp_queries_corrected = [\"information retrieval\", \"sherlock hol\", \"carnegie mell\", \"babies r\", \"Barbara \"]\n",
        "\n",
        "for q, qc in zip(inp_queries, inp_queries_corrected):\n",
        "    assert  complete_user_query(qc, trie, 5) == \\\n",
        "            complete_user_query_with_spellchecker(q, trie, 5), \"Assert {} and {} give different results\".format(q, qc)"
      ],
      "metadata": {
        "id": "bL2OtFERuHCp"
      },
      "execution_count": null,
      "outputs": []
    }
  ],
  "metadata": {
    "kernelspec": {
      "display_name": "Python 3 (ipykernel)",
      "language": "python",
      "name": "python3"
    },
    "language_info": {
      "codemirror_mode": {
        "name": "ipython",
        "version": 3
      },
      "file_extension": ".py",
      "mimetype": "text/x-python",
      "name": "python",
      "nbconvert_exporter": "python",
      "pygments_lexer": "ipython3",
      "version": "3.8.12"
    },
    "colab": {
      "provenance": []
    }
  },
  "nbformat": 4,
  "nbformat_minor": 0
}