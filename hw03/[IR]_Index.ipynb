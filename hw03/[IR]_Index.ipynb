{
  "cells": [
    {
      "cell_type": "markdown",
      "id": "71cd5f3b-91d1-49dd-90d6-3c5f9d4337a8",
      "metadata": {
        "id": "71cd5f3b-91d1-49dd-90d6-3c5f9d4337a8"
      },
      "source": [
        "# Where is a hospital in Manhattan Downtown?\n",
        "\n",
        "In this lab we will create 2 vector indices to answer a very simple question: if you are in Manhattan downtown, where is the nearest hospital? We will base our soultion on two sources of data:\n",
        "- [Points of Interest dataset](https://drive.google.com/file/d/1LUudtCADqSxRl18ZzCzyPPGfhuUo2ZZs/view?usp=sharing). This is a 10% sample of a bigger dataset. Download and uncompress the file.\n",
        "- [Google Geocoding API](https://developers.google.com/maps/documentation/geocoding/start) or any other [equivalent service](https://gisgeography.com/geocoders/). For Google you will need to obtain a key. **PLEASE DO NOT SUBMIT THE KEY TO MOODLE :)**\n",
        "\n",
        "\n",
        "# 0. Prepare data"
      ]
    },
    {
      "cell_type": "code",
      "source": [
        "# from google.colab import drive\n",
        "# drive.mount('/content/drive')"
      ],
      "metadata": {
        "id": "_DGAZTVWXlBy"
      },
      "id": "_DGAZTVWXlBy",
      "execution_count": 1,
      "outputs": []
    },
    {
      "cell_type": "code",
      "execution_count": 2,
      "id": "29a5311c-46bd-459e-9aaa-68ac3f1a088e",
      "metadata": {
        "id": "29a5311c-46bd-459e-9aaa-68ac3f1a088e"
      },
      "outputs": [],
      "source": [
        "def draw_earth(xlim=(-180, +180), ylim=(-90, +90)):\n",
        "    import matplotlib.pyplot\n",
        "    import pandas as pd\n",
        "    import json\n",
        "    plt.figure(figsize=(15, 8))\n",
        "    plt.xlim(xlim)\n",
        "    plt.ylim(ylim)\n",
        "    \n",
        "    # this file also lives in github. Adjust the path if needed.\n",
        "    df = pd.read_csv(\"../../datasets/world.csv\")\n",
        "    \n",
        "    for row in df['geojson']:\n",
        "        js = json.loads(row)\n",
        "        polys = js['coordinates']\n",
        "        for poly in polys:\n",
        "            for pp in poly:\n",
        "                x, y = [v[0] for v in pp], [v[1] for v in pp]\n",
        "                plt.plot(x, y, color='gray')"
      ]
    },
    {
      "cell_type": "markdown",
      "id": "a095e09a-bde2-4854-9b4c-774980032d46",
      "metadata": {
        "id": "a095e09a-bde2-4854-9b4c-774980032d46"
      },
      "source": [
        "Reading the dataset and storing coordinates in `GEO` matrix:"
      ]
    },
    {
      "cell_type": "code",
      "execution_count": 3,
      "id": "50a70144-746d-443d-9a94-2ea16f7d2209",
      "metadata": {
        "tags": [],
        "colab": {
          "base_uri": "https://localhost:8080/"
        },
        "id": "50a70144-746d-443d-9a94-2ea16f7d2209",
        "outputId": "40209668-d5bd-4fff-f110-6e939a592f16"
      },
      "outputs": [
        {
          "output_type": "execute_result",
          "data": {
            "text/plain": [
              "0"
            ]
          },
          "metadata": {},
          "execution_count": 3
        }
      ],
      "source": [
        "import pickle\n",
        "import matplotlib.pyplot as plt\n",
        "import numpy as np\n",
        "\n",
        "# replace filename if you want to use another data file\n",
        "# be careful! 2M points is still a big number and can eat significant amout of memory\n",
        "with open(\"/content/drive/MyDrive/B20-02/[Spring] 2023/poi_sample01.pickle\", \"rb\") as f:\n",
        "    dataset = pickle.load(f)\n",
        "\n",
        "# let's sample 20000 of points to draw\n",
        "step = len(dataset) // 20000\n",
        "\n",
        "# pure coordinated in compressed representation, 2B per number -> 8MB per array\n",
        "GEO = np.array([v[0] for v in dataset], dtype=np.float64)\n",
        "N = len(dataset)\n",
        "# free the memory\n",
        "dataset = None\n",
        "import gc\n",
        "gc.collect()"
      ]
    },
    {
      "cell_type": "markdown",
      "id": "553b4471-6023-4baa-9922-6427371ce00d",
      "metadata": {
        "id": "553b4471-6023-4baa-9922-6427371ce00d"
      },
      "source": [
        "Showing approximate dataset data distribution:"
      ]
    },
    {
      "cell_type": "code",
      "execution_count": 4,
      "id": "e34accde-8889-4c48-8979-90801bc33b94",
      "metadata": {
        "id": "e34accde-8889-4c48-8979-90801bc33b94"
      },
      "outputs": [],
      "source": [
        "# draw_earth(ylim=(-75, 75))\n",
        "# plt.xlabel('longitude')\n",
        "# plt.ylabel('latitude')\n",
        "# plt.grid()\n",
        "# plt.scatter(GEO[::step, 0], GEO[::step, 1])\n",
        "# plt.show()"
      ]
    },
    {
      "cell_type": "markdown",
      "id": "df552af0-04b6-486a-9e76-b19bfe957d46",
      "metadata": {
        "id": "df552af0-04b6-486a-9e76-b19bfe957d46"
      },
      "source": [
        "## 0.1. [1 point] Ok. Let's prepare ourselves to read the data from the hard drive\n",
        "\n",
        "We will prepare id-based shards (data will be distributed into equal files with ranges `[0..capacity-1], [capacity..2*capacity-1], ...`. Each shard will store `capacity` elements. Your task is to complete the implementation with `iterate_dataset` function."
      ]
    },
    {
      "cell_type": "code",
      "execution_count": 5,
      "id": "4186d0a3-2783-4d0c-889a-a9760461bcdf",
      "metadata": {
        "id": "4186d0a3-2783-4d0c-889a-a9760461bcdf"
      },
      "outputs": [],
      "source": [
        "def split_shards(file, folder='shard', capacity=20000):\n",
        "    import pickle, os, math, gc\n",
        "    if not os.path.exists(folder):\n",
        "        os.mkdir(folder)\n",
        "    with open(file, \"rb\") as f:\n",
        "        dataset = pickle.load(f)\n",
        "    nshards = len(dataset) // capacity\n",
        "    if nshards * capacity < len(dataset):\n",
        "        nshards += 1\n",
        "    \n",
        "    for i in range(nshards):\n",
        "        with open(f\"{folder}/{i}\", 'wb') as f:\n",
        "            part = dataset[i * capacity:(i+1)*capacity]\n",
        "            pickle.dump(part, f)\n",
        "    dataset = None\n",
        "    gc.collect()            \n",
        "\n",
        "    \n",
        "def dataset_get(indices, folder='shard', capacity=20000) -> list:\n",
        "    result = []\n",
        "    groups = {}\n",
        "    for i in indices:\n",
        "        x = i // capacity\n",
        "        if x not in groups:\n",
        "            groups[x] = []\n",
        "        groups[x].append(i)\n",
        "    for x in groups:\n",
        "        with open(f\"{folder}/{x}\", \"rb\") as f:\n",
        "            sha = pickle.load(f)\n",
        "            for i in groups[x]:\n",
        "                row = sha[i % capacity]\n",
        "                result.append(row)\n",
        "    return result\n",
        "\n",
        "\n",
        "# should return iterator, which goes through all elements, consequently opening files\n",
        "# use ``yield`` operator to simplify your code\n",
        "def iterate_dataset(items, folder=\"shard\", capacity=20000):\n",
        "    for i in range(items):\n",
        "        if i % capacity == 0:\n",
        "            shard_idx = i // capacity\n",
        "            with open(f\"{folder}/{shard_idx}\", \"rb\") as f:\n",
        "                sha = pickle.load(f)\n",
        "            for j in sha:\n",
        "                yield j"
      ]
    },
    {
      "cell_type": "code",
      "execution_count": 6,
      "id": "e6c2b7c1-2a37-48bc-9a59-f8aa2a12fb4c",
      "metadata": {
        "id": "e6c2b7c1-2a37-48bc-9a59-f8aa2a12fb4c"
      },
      "outputs": [],
      "source": [
        "split_shards(\"/content/drive/MyDrive/B20-02/[Spring] 2023/poi_sample01.pickle\")"
      ]
    },
    {
      "cell_type": "markdown",
      "id": "453c72c8-ec98-4d69-a04c-a921bcdc9f3d",
      "metadata": {
        "id": "453c72c8-ec98-4d69-a04c-a921bcdc9f3d"
      },
      "source": [
        "asserts:"
      ]
    },
    {
      "cell_type": "code",
      "execution_count": 7,
      "id": "fdc03748-bb20-4abf-8ded-29a7691c7cc9",
      "metadata": {
        "id": "fdc03748-bb20-4abf-8ded-29a7691c7cc9"
      },
      "outputs": [],
      "source": [
        "i = 0\n",
        "for r in iterate_dataset(N):\n",
        "    i += 1\n",
        "\n",
        "assert i == N"
      ]
    },
    {
      "cell_type": "markdown",
      "id": "02dfe74d-7423-415a-b94c-3b132954c9b6",
      "metadata": {
        "id": "02dfe74d-7423-415a-b94c-3b132954c9b6"
      },
      "source": [
        "asserts:"
      ]
    },
    {
      "cell_type": "code",
      "execution_count": 8,
      "id": "edb8e8ee-ee4e-4e51-b1e8-0d6dc55c71b0",
      "metadata": {
        "id": "edb8e8ee-ee4e-4e51-b1e8-0d6dc55c71b0"
      },
      "outputs": [],
      "source": [
        "import numpy as np\n",
        "\n",
        "for i in [137, 40000, 600000]:\n",
        "    assert np.allclose(GEO[i,:], dataset_get([i])[0][0], atol=5*1e-2), \"\""
      ]
    },
    {
      "cell_type": "code",
      "execution_count": 9,
      "id": "2397c665-55fd-4fbe-9557-c2fb13339f37",
      "metadata": {
        "colab": {
          "base_uri": "https://localhost:8080/"
        },
        "id": "2397c665-55fd-4fbe-9557-c2fb13339f37",
        "outputId": "f01d48ef-5c18-47ca-c1b8-686f4c77d190"
      },
      "outputs": [
        {
          "output_type": "execute_result",
          "data": {
            "text/plain": [
              "[([-58.4339539, -34.6028583],\n",
              "  'CreationFlow, Professional, Computer Services. AR, Ciudad de Buenos Aires, Vera 15 3-B'),\n",
              " ([13.9706993103, 46.6813430786],\n",
              "  'Bahnhof Ossiach-Bodensdorf. AT, Bodensdorf, '),\n",
              " ([-117.642377, 34.068324],\n",
              "  'Industrial Labor Management, Professional, Management & Consulting. US, Ontario, 647 E E St'),\n",
              " ([28.0354352, -26.1470966],\n",
              "  'ScoreGrid, Professional, Computer Services. ZA, Johannesburg, 158 Jan Smuts Avenue Rosebank')]"
            ]
          },
          "metadata": {},
          "execution_count": 9
        }
      ],
      "source": [
        "dataset_get([1, 10, 1000234, N-1])"
      ]
    },
    {
      "cell_type": "markdown",
      "id": "5ae824d0-ed81-4fac-98fb-ff92e80dc752",
      "metadata": {
        "id": "5ae824d0-ed81-4fac-98fb-ff92e80dc752"
      },
      "source": [
        "---\n",
        "\n",
        "# And now the task!\n",
        "Ok. We are ready to perform the following steps utilizing functions beyond:\n",
        "1. Build **coordinate search index**. We will use it to obtain POI from the given region.\n",
        "3. Implement **vector text embedding index** (Annoy, HNSW) to serve semantic queries.\n",
        "3. Implement **geocoding** with cache. We will use it to obtain city coordinates.\n",
        "4. Impement search for **double queries: town and location type**."
      ]
    },
    {
      "cell_type": "markdown",
      "id": "8ac21fa4-dc16-41b9-8c4f-7ea535b0dd75",
      "metadata": {
        "id": "8ac21fa4-dc16-41b9-8c4f-7ea535b0dd75"
      },
      "source": [
        "# 1. Create spacial index for points of interest\n",
        "\n",
        "We will store dataset rows numbers as values, and coordinates as keys. Please use [KDtree](https://scikit-learn.org/stable/modules/generated/sklearn.neighbors.KDTree.html#sklearn.neighbors.KDTree) or [BallTree](https://scikit-learn.org/stable/modules/generated/sklearn.neighbors.BallTree.html#sklearn.neighbors.BallTree) from sklearn.\n",
        "\n",
        "## 1.1. [5 points] Build the index and return it\n",
        "\n",
        "Implement the following functions. To get the full grade:\n",
        "- `build_geospacial_index` should build and return a search tree object: KDTree or BallTree.\n",
        "- `kNN` accepts a 2D-point, `k` neighbours parameter, and returns **approximate** `k` neighbours (they can be different from the real neighbours).\n",
        "- `inRadius` accepts a 2D-point, L<sub>2</sub> `radius`, and returns points inside the radius. Clarification: for simplicity **radius is given in units of coordinates (degrees)**, not kilometers or meters."
      ]
    },
    {
      "cell_type": "code",
      "execution_count": 10,
      "id": "33e216ac-fd46-475e-8082-158ba32c4661",
      "metadata": {
        "tags": [],
        "id": "33e216ac-fd46-475e-8082-158ba32c4661"
      },
      "outputs": [],
      "source": [
        "from sklearn.neighbors import BallTree\n",
        "import random as rnd\n",
        "\n",
        "def build_geospacial_index(points, leaf_size=5) -> BallTree: # or KDTree here\n",
        "    # _points = set()\n",
        "    # for point in points:\n",
        "    #     if tuple(point) not in _points:\n",
        "    #         _points.add(tuple(point))\n",
        "    #     else:\n",
        "    #         temp = tuple(point)\n",
        "    #         while temp in _points:\n",
        "    #             temp = tuple([\n",
        "    #                 temp[0] + rnd.uniform(1e-16, 1e-15), \n",
        "    #                 temp[1] + rnd.uniform(1e-16, 1e-15)\n",
        "    #                 ])\n",
        "    # tree = BallTree(_points, leaf_size=leaf_size)\n",
        "    tree = BallTree(points, leaf_size=leaf_size)\n",
        "    return tree\n",
        "\n",
        "\n",
        "def kNN(query_point: list, k: int, index: BallTree) -> list:\n",
        "    query_point = query_point.reshape(1, -1)\n",
        "    dist, idx = index.query(query_point, k=k)\n",
        "    return idx[0]\n",
        "\n",
        "\n",
        "def inRadius(query_point: list, r: float, index: BallTree) -> list:\n",
        "    query_point = query_point.reshape(1, -1)\n",
        "    idx = index.query_radius(query_point, r=r)\n",
        "    return idx[0]"
      ]
    },
    {
      "cell_type": "code",
      "execution_count": 11,
      "id": "7d82f9fe-efdd-48ca-a859-a91339828693",
      "metadata": {
        "id": "7d82f9fe-efdd-48ca-a859-a91339828693"
      },
      "outputs": [],
      "source": [
        "spaidx = build_geospacial_index(GEO)"
      ]
    },
    {
      "cell_type": "code",
      "execution_count": 12,
      "id": "ffff3d8c-81a5-4e4d-9b26-d76b67a98a24",
      "metadata": {
        "colab": {
          "base_uri": "https://localhost:8080/"
        },
        "id": "ffff3d8c-81a5-4e4d-9b26-d76b67a98a24",
        "outputId": "e73623f8-33ce-434a-bf42-0d0bd405959e"
      },
      "outputs": [
        {
          "output_type": "stream",
          "name": "stdout",
          "text": [
            "[13, 145, 351, 15497, 16642, 20423, 23285, 24681, 26327, 27121]\n",
            "[13, 145, 351, 15497, 23285, 24681, 26327]\n"
          ]
        }
      ],
      "source": [
        "test_id = 13\n",
        "\n",
        "idx = kNN(GEO[test_id], 10, spaidx)\n",
        "print(sorted(idx))\n",
        "assert test_id in idx, \"Point itself should be in results\"\n",
        "\n",
        "idx = inRadius(GEO[test_id], 0.0625, spaidx)\n",
        "print(sorted(idx))\n",
        "assert test_id in idx, \"Point itself should be in results\""
      ]
    },
    {
      "cell_type": "markdown",
      "id": "46ae0ac1-d762-4dcc-bde5-1a67e84f884b",
      "metadata": {
        "id": "46ae0ac1-d762-4dcc-bde5-1a67e84f884b"
      },
      "source": [
        "## 1.2. [4 points] Tricky assert\n",
        "\n",
        "Some keys (coordinates) in the dataset (surprise!) are duplicates. Unfortunately search trees (in basic implemenation) cannot support duplicates. Thus you can follow one of the strategies:\n",
        "- a key (coordinateS) corresponds to multiple values. This may require additional data strictures.\n",
        "- improve the data (coordinates) to avoid collisions (e.g. make sure they never coinside by adding insignificant noise)\n",
        "\n",
        "Pass the assert to get full points."
      ]
    },
    {
      "cell_type": "code",
      "execution_count": 13,
      "id": "3933c8b6-0904-4724-a349-9e1375610553",
      "metadata": {
        "id": "3933c8b6-0904-4724-a349-9e1375610553"
      },
      "outputs": [],
      "source": [
        "points = [1966663, 1480877, 2126566]\n",
        "for p in points:\n",
        "    x = GEO[p, :]\n",
        "    r = kNN(x, 1000, spaidx)\n",
        "    assert (p in r), \"Query did not return itself\""
      ]
    },
    {
      "cell_type": "markdown",
      "source": [
        "I've just change precision of data in numpy."
      ],
      "metadata": {
        "id": "UnaHUAtQINux"
      },
      "id": "UnaHUAtQINux"
    },
    {
      "cell_type": "markdown",
      "id": "c85991d1-b730-4405-a33f-8812e562145a",
      "metadata": {
        "id": "c85991d1-b730-4405-a33f-8812e562145a"
      },
      "source": [
        "## 1.3. [Optional demo] How leaf size influences build and search speed?\n",
        "\n",
        "Let us look at how parameter of leaf size affects speed of search and construction"
      ]
    },
    {
      "cell_type": "code",
      "execution_count": 14,
      "id": "9bc09c3b-cb03-44ea-8c15-ec3787fa090d",
      "metadata": {
        "colab": {
          "base_uri": "https://localhost:8080/",
          "height": 466
        },
        "id": "9bc09c3b-cb03-44ea-8c15-ec3787fa090d",
        "outputId": "726121cd-e2ac-48c3-e681-adcbf407b618"
      },
      "outputs": [
        {
          "output_type": "stream",
          "name": "stderr",
          "text": [
            "100%|██████████| 4/4 [00:24<00:00,  6.21s/it]\n"
          ]
        },
        {
          "output_type": "display_data",
          "data": {
            "text/plain": [
              "<Figure size 640x480 with 1 Axes>"
            ],
            "image/png": "[encoded data removed]"
          },
          "metadata": {}
        }
      ],
      "source": [
        "import random\n",
        "import time\n",
        "import matplotlib.pyplot as plt\n",
        "import tqdm\n",
        "\n",
        "queries = random.sample(range(N), 1000)\n",
        "leaf_sizes = [1, 10, 20, 50]\n",
        "\n",
        "build_times = []\n",
        "query_times = []\n",
        "for ls in tqdm.tqdm(leaf_sizes):\n",
        "    start = time.time()\n",
        "    idx = build_geospacial_index(GEO, ls)\n",
        "    build_times.append(time.time() - start)\n",
        "    \n",
        "    start = time.time()\n",
        "    for q in queries:\n",
        "        d, r = spaidx.query([GEO[q]], 10000, sort_results=False, breadth_first=True)\n",
        "    query_times.append(time.time() - start)\n",
        "    idx = None\n",
        "    gc.collect()\n",
        "\n",
        "plt.xlabel(\"build time, s\")\n",
        "plt.ylabel(\"query time, s\")\n",
        "plt.scatter(build_times, query_times)\n",
        "for i, ls in enumerate(leaf_sizes):\n",
        "    plt.annotate(str(ls), (build_times[i], query_times[i]))"
      ]
    },
    {
      "cell_type": "markdown",
      "id": "545a1830-2bd2-4e29-898e-300f43ca6dfc",
      "metadata": {
        "id": "545a1830-2bd2-4e29-898e-300f43ca6dfc"
      },
      "source": [
        "## 1.4. [5 points] Range queries?\n",
        "\n",
        "Ok, you have a **radius query**, but what about **rectangual ranges**? Using the functions you already wrote, please, implement the range query given `north-east` and `south-west` corners. Pass the asserts to get points."
      ]
    },
    {
      "cell_type": "code",
      "execution_count": 15,
      "id": "518149b1-21e3-4f8c-93a9-4d955f7c9751",
      "metadata": {
        "id": "518149b1-21e3-4f8c-93a9-4d955f7c9751"
      },
      "outputs": [],
      "source": [
        "import numpy as np\n",
        "from scipy.spatial import distance\n",
        "\n",
        "# should return ids of the rows in this range\n",
        "def get_in_range(ne, sw, spacial_index, GEO) -> list:\n",
        "    ne, sw = np.array(ne), np.array(sw)\n",
        "    center = (ne + sw) / 2\n",
        "    radius = distance.euclidean(ne, sw) / 2\n",
        "    indices = inRadius(center, radius, spacial_index)\n",
        "    points = GEO[indices]\n",
        "    indices = indices[((points <= ne) & (points >= sw)).all(axis=1)]\n",
        "    \n",
        "    return indices"
      ]
    },
    {
      "cell_type": "code",
      "execution_count": 16,
      "id": "add4c18d-e4d1-4fa5-a947-a61ff2c007c4",
      "metadata": {
        "id": "add4c18d-e4d1-4fa5-a947-a61ff2c007c4"
      },
      "outputs": [],
      "source": [
        "def print_starbucks(ids):\n",
        "    for row in dataset_get(ids):\n",
        "        if 'Starbucks' in row[1]:\n",
        "            print(row[1])"
      ]
    },
    {
      "cell_type": "markdown",
      "id": "f2d95a52-1667-4381-acce-686f99e11a8c",
      "metadata": {
        "id": "f2d95a52-1667-4381-acce-686f99e11a8c"
      },
      "source": [
        "asserts:"
      ]
    },
    {
      "cell_type": "code",
      "execution_count": 17,
      "id": "699927cb-ac44-498a-9dec-1d76a34df67e",
      "metadata": {
        "colab": {
          "base_uri": "https://localhost:8080/"
        },
        "id": "699927cb-ac44-498a-9dec-1d76a34df67e",
        "outputId": "793689a3-992c-44b6-b6e6-91e82feffa5b"
      },
      "outputs": [
        {
          "output_type": "stream",
          "name": "stdout",
          "text": [
            "Starbucks Coffee, Coffee & Tea, . US, Hoboken, 51 Newark St\n",
            "Starbucks Coffee, Coffee & Tea, . US, New York, 55 Liberty St\n",
            "Starbucks Coffee, Coffee & Tea, . US, New York, 150 Varick St\n",
            "Starbucks Coffee, Coffee & Tea, . US, New York, 378 Avenue of The Americas\n",
            "Starbucks Coffee, Coffee & Tea, . US, New York, 4 W 21st St\n",
            "Starbucks, Restaurant, . US, Manhattan, 195 Broadway\n",
            "Starbucks, Coffee & Tea, . US, Manhattan, 80 Delancey St\n",
            "Starbucks, Coffee & Tea, . US, Manhattan, 471 Broadway\n"
          ]
        }
      ],
      "source": [
        "ids = get_in_range([-73.97, 40.75], [-74.03, 40.70], spaidx, GEO)\n",
        "\n",
        "assert any(map(\n",
        "            lambda x: 'Manhattan, 80 Delancey St' in x[1], \n",
        "            dataset_get(ids))), \"This Starbucks should be in place!\"\n",
        "\n",
        "print_starbucks(ids)"
      ]
    },
    {
      "cell_type": "markdown",
      "id": "17837e0b-7018-4e58-9624-19d0097a46c7",
      "metadata": {
        "id": "17837e0b-7018-4e58-9624-19d0097a46c7"
      },
      "source": [
        "# 2. Geocoding\n",
        "\n",
        "In this block we will learn, how to convert text place names into coordinate rectangles.\n",
        "\n",
        "## 2.1. [5 points] Implement geocoding\n",
        "which returns north-eastern and south-western points of the place. Pass asserts to get full points."
      ]
    },
    {
      "cell_type": "code",
      "execution_count": 18,
      "id": "75cee150-55a9-4501-a31c-fd7a4796d7e2",
      "metadata": {
        "id": "75cee150-55a9-4501-a31c-fd7a4796d7e2"
      },
      "outputs": [],
      "source": [
        "import requests\n",
        "\n",
        "# this function returns a pair of tuples: NE and SW corners.\n",
        "def get_town_range_coordinates(town: str, yandex_maps_api_key: str) -> tuple:\n",
        "    api = f\"https://geocode-maps.yandex.ru/1.x/?apikey={yandex_maps_api_key}&geocode={town}&format=json\"\n",
        "    # TODO your code here.\n",
        "    # NB you can use any other geocoding tool, e.g. yandex: https://yandex.ru/dev/maps/geocoder/\n",
        "    r = requests.get(api)\n",
        "    content = r.json()[\"response\"]\n",
        "    content = content[\"GeoObjectCollection\"]\n",
        "    content = content[\"featureMember\"][0]\n",
        "    content = content[\"GeoObject\"]\n",
        "    content = content[\"boundedBy\"]\n",
        "    content = content[\"Envelope\"]\n",
        "    coords = [[float(_) for _ in content[key].split()] for key in content]\n",
        "    SW, NE = coords\n",
        "\n",
        "    return NE, SW"
      ]
    },
    {
      "cell_type": "markdown",
      "id": "8e6da1e0-a57e-47d5-acd7-3d0ed2b5d60f",
      "metadata": {
        "id": "8e6da1e0-a57e-47d5-acd7-3d0ed2b5d60f"
      },
      "source": [
        "If needed, request your key here: https://developers.google.com/maps/documentation/geocoding/get-api-key\n",
        "\n",
        "Note, that from the **local machine** you may (!) need to have VPN enabled. For **colab** this should work smoothly."
      ]
    },
    {
      "cell_type": "code",
      "execution_count": 19,
      "id": "97d9c42a-6057-4408-a79f-689298dff17d",
      "metadata": {
        "id": "97d9c42a-6057-4408-a79f-689298dff17d"
      },
      "outputs": [],
      "source": [
        "my_yandex_maps_api_key = open('yandex.key', 'r').read().strip()"
      ]
    },
    {
      "cell_type": "markdown",
      "id": "3848f5bb-9acd-44a2-ba25-dae0d847f1cb",
      "metadata": {
        "id": "3848f5bb-9acd-44a2-ba25-dae0d847f1cb"
      },
      "source": [
        "asserts:"
      ]
    },
    {
      "cell_type": "code",
      "execution_count": 20,
      "id": "ee42826b-91e0-470f-8f9e-c8986894c20c",
      "metadata": {
        "colab": {
          "base_uri": "https://localhost:8080/"
        },
        "id": "ee42826b-91e0-470f-8f9e-c8986894c20c",
        "outputId": "267d844b-7804-4f1b-f1e2-ad6e1aceca4c"
      },
      "outputs": [
        {
          "output_type": "stream",
          "name": "stdout",
          "text": [
            "([-79.989227, 40.453579], [-80.022159, 40.428417])\n"
          ]
        }
      ],
      "source": [
        "p = get_town_range_coordinates('Pittsburgh downtown', my_yandex_maps_api_key)\n",
        "print(p)\n",
        "assert p[1][0] <= -80. <= p[0][0] and p[1][1] <= 40.44 <= p[0][1] "
      ]
    },
    {
      "cell_type": "markdown",
      "id": "536a8de0-7528-490a-855c-1cd22497accb",
      "metadata": {
        "id": "536a8de0-7528-490a-855c-1cd22497accb"
      },
      "source": [
        "## 2.2. [5 points] Town queries\n",
        "\n",
        "Now, having a range query and geocoding, we can implement town-queries! Pass the assert to get the points."
      ]
    },
    {
      "cell_type": "code",
      "execution_count": 21,
      "id": "664a7f60-5bd3-430b-86d1-43be9a12345f",
      "metadata": {
        "id": "664a7f60-5bd3-430b-86d1-43be9a12345f"
      },
      "outputs": [],
      "source": [
        "# should return dataset indices\n",
        "def get_in_town(town, index, GEO, maps_api_key) -> list:\n",
        "    ne, sw = get_town_range_coordinates(town, maps_api_key)\n",
        "    return get_in_range(ne, sw, spacial_index=index, GEO=GEO)"
      ]
    },
    {
      "cell_type": "code",
      "execution_count": 22,
      "id": "416b1f42-f5e7-45a0-a939-c8b7daef7a4d",
      "metadata": {
        "colab": {
          "base_uri": "https://localhost:8080/"
        },
        "id": "416b1f42-f5e7-45a0-a939-c8b7daef7a4d",
        "outputId": "39a8c659-e5b2-4842-8dce-0d511061c563"
      },
      "outputs": [
        {
          "output_type": "stream",
          "name": "stdout",
          "text": [
            "Starbucks Coffee, Coffee & Tea, . US, Pittsburgh, 810 River Ave\n"
          ]
        }
      ],
      "source": [
        "ids = get_in_town('Pittsburgh downtown', spaidx, GEO, my_yandex_maps_api_key)\n",
        "\n",
        "assert any(map(\n",
        "            lambda x: 'US, Pittsburgh, 810 River Ave' in x[1], \n",
        "            dataset_get(ids))), \"This Starbucks should be in place!\"\n",
        "\n",
        "print_starbucks(ids)"
      ]
    },
    {
      "cell_type": "markdown",
      "id": "212c1670-3314-4b81-95e8-278a5b8822db",
      "metadata": {
        "id": "212c1670-3314-4b81-95e8-278a5b8822db"
      },
      "source": [
        "## 2.3. [5 points] Caching\n",
        "\n",
        "Why should you pay for every geocaching request, if you can cache them? Implement a cached version on geocoding. The second query does not use internet."
      ]
    },
    {
      "cell_type": "code",
      "execution_count": 23,
      "id": "a3848261-07c1-47ef-bcea-1b0a72c70038",
      "metadata": {
        "id": "a3848261-07c1-47ef-bcea-1b0a72c70038"
      },
      "outputs": [],
      "source": [
        "GEO_CACHE = {}\n",
        "\n",
        "def get_town_range_coordinates_cached(town: str, maps_key: str) -> tuple:\n",
        "    global GEO_CACHE\n",
        "    if town in GEO_CACHE:\n",
        "        print(\"Cache hit!\")\n",
        "        return GEO_CACHE[town]\n",
        "    GEO_CACHE[town] = get_town_range_coordinates(town, maps_key)\n",
        "    return GEO_CACHE[town]\n",
        "\n",
        "def get_in_town_cached(town: str, index, GEO, maps_key: str) -> list:\n",
        "    ne, sw = get_town_range_coordinates_cached(town, maps_key)\n",
        "    return get_in_range(ne, sw, spacial_index=index, GEO=GEO)"
      ]
    },
    {
      "cell_type": "code",
      "execution_count": 24,
      "id": "cdcf7790-ba8f-472a-9c67-133ffa8bc10d",
      "metadata": {
        "colab": {
          "base_uri": "https://localhost:8080/"
        },
        "id": "cdcf7790-ba8f-472a-9c67-133ffa8bc10d",
        "outputId": "75eb0d6c-2584-4d12-aee9-b688798dc46b"
      },
      "outputs": [
        {
          "output_type": "stream",
          "name": "stdout",
          "text": [
            "Starbucks Coffee, Coffee & Tea, . US, Boulder, 1427 Pearl St\n",
            "Starbucks Coffee, Coffee & Tea, . US, Boulder, 2770 Pearl St\n",
            "Cache hit!\n",
            "Starbucks Coffee, Coffee & Tea, . US, Boulder, 1427 Pearl St\n",
            "Starbucks Coffee, Coffee & Tea, . US, Boulder, 2770 Pearl St\n"
          ]
        }
      ],
      "source": [
        "ids = get_in_town_cached('Boulder, CO', spaidx, GEO, my_yandex_maps_api_key)\n",
        "print_starbucks(ids)\n",
        "ids = get_in_town_cached('Boulder, CO', spaidx, GEO, my_yandex_maps_api_key)\n",
        "print_starbucks(ids)"
      ]
    },
    {
      "cell_type": "markdown",
      "id": "59f7cb00-c98a-493b-a3bd-f290fcfc83a4",
      "metadata": {
        "id": "59f7cb00-c98a-493b-a3bd-f290fcfc83a4"
      },
      "source": [
        "# 3. Text search\n",
        "\n",
        "We are done with geography, but we have no clear method to search for categories. What if we prepare vector index of location names?"
      ]
    },
    {
      "cell_type": "code",
      "execution_count": 25,
      "id": "27e5e36e-3cc0-4b0e-9cc5-be1ffec44768",
      "metadata": {
        "id": "27e5e36e-3cc0-4b0e-9cc5-be1ffec44768"
      },
      "outputs": [],
      "source": [
        "# !pip install spacy\n",
        "# !python -m spacy download en_core_web_md"
      ]
    },
    {
      "cell_type": "code",
      "execution_count": 26,
      "id": "8ea12030-de9c-4200-a411-0138e43c05db",
      "metadata": {
        "id": "8ea12030-de9c-4200-a411-0138e43c05db"
      },
      "outputs": [],
      "source": [
        "import spacy\n",
        "nlp = spacy.load('en_core_web_md')\n",
        "names = []"
      ]
    },
    {
      "cell_type": "markdown",
      "id": "07dca13a-5641-4330-b1e2-895f6a81e220",
      "metadata": {
        "id": "07dca13a-5641-4330-b1e2-895f6a81e220"
      },
      "source": [
        "## 3.1. [5 points] Embedding\n",
        "\n",
        "Here is the trick. If you use any embedding model \"as it is\", it may take some hours to prepare 2M embeddings. It's ok if you can wait (and get **2 points**), but...\n",
        "\n",
        "To get full points, please think, how you can speed up the process with embedding to less than 5 minutes?\n",
        "\n",
        "HINT: spacy model `nlp` has a [dictionary for word embeddings](https://spacy.io/api/vocab). You can access `nlp.vocab[word].vector` to get word embedding, `nlp.vocab.strings` map stores integer indices. Or maybe you want to use `fasttext` instead?"
      ]
    },
    {
      "cell_type": "code",
      "execution_count": 27,
      "id": "bd2b67c2-63f0-444d-9720-83f6c3b98d6f",
      "metadata": {
        "colab": {
          "base_uri": "https://localhost:8080/"
        },
        "id": "bd2b67c2-63f0-444d-9720-83f6c3b98d6f",
        "outputId": "dfa53b1e-e26b-41e3-f205-1bfff0a9b90c"
      },
      "outputs": [
        {
          "output_type": "stream",
          "name": "stderr",
          "text": [
            "[nltk_data] Downloading package stopwords to /root/nltk_data...\n",
            "[nltk_data]   Package stopwords is already up-to-date!\n"
          ]
        }
      ],
      "source": [
        "import numpy as np\n",
        "import nltk\n",
        "nltk.download('stopwords')\n",
        "from nltk.corpus import stopwords\n",
        "\n",
        "# if you need most frequent english words for some reason.\n",
        "# WORDS = set([a.strip() for a in open('../../datasets/words.txt', 'r').readlines()])\n",
        "WORDS = stopwords.words('english')\n",
        "\n",
        "def embed(text, nlp):\n",
        "    # TODO your code here. This should return a vector (300,)\n",
        "    words = [word for word in text.split() if word not in WORDS]\n",
        "    embed = [nlp.vocab[word].vector for word in words]\n",
        "    # print(nlp.vocab[text].vector)\n",
        "    # print(nlp.vocab.strings[text])\n",
        "\n",
        "    return np.mean(embed, axis=0)"
      ]
    },
    {
      "cell_type": "code",
      "execution_count": 36,
      "id": "43836204-638f-4f77-b4b2-7348fb0241dd",
      "metadata": {
        "colab": {
          "base_uri": "https://localhost:8080/"
        },
        "id": "43836204-638f-4f77-b4b2-7348fb0241dd",
        "outputId": "f9e347e3-9737-4d72-8bbe-2c066df643e2"
      },
      "outputs": [
        {
          "output_type": "stream",
          "name": "stderr",
          "text": [
            "  0%|          | 3069/2173512 [00:00<03:25, 10557.15it/s]/usr/local/lib/python3.9/dist-packages/numpy/core/fromnumeric.py:3474: RuntimeWarning: Mean of empty slice.\n",
            "  return _methods._mean(a, axis=axis, dtype=dtype,\n",
            "/usr/local/lib/python3.9/dist-packages/numpy/core/_methods.py:189: RuntimeWarning: invalid value encountered in double_scalars\n",
            "  ret = ret.dtype.type(ret / rcount)\n",
            "100%|██████████| 2173512/2173512 [03:06<00:00, 11677.12it/s]\n"
          ]
        },
        {
          "output_type": "execute_result",
          "data": {
            "text/plain": [
              "0"
            ]
          },
          "metadata": {},
          "execution_count": 36
        }
      ],
      "source": [
        "from tqdm import tqdm\n",
        "import gc\n",
        "import numpy as np\n",
        "\n",
        "embeddings = np.zeros((N, 300), dtype=np.float64)\n",
        "\n",
        "for i, item in enumerate(tqdm(iterate_dataset(N), total=N)):\n",
        "    name = item[1].split('.')[0]\n",
        "    emb = embed(name, nlp)\n",
        "    if emb is not None:\n",
        "        embeddings[i, :] = emb\n",
        "\n",
        "gc.collect()"
      ]
    },
    {
      "cell_type": "markdown",
      "id": "73177781-3e59-494b-afc6-215f1a926f24",
      "metadata": {
        "id": "73177781-3e59-494b-afc6-215f1a926f24"
      },
      "source": [
        "## 3.2. [10 points] Vector index\n",
        "\n",
        "Here you build vector index for our embeddings. I want to warn Windows users, that they can observe problems with installing Faiss and HNSWlib (please refer to the corresponding lab). Still this is not the reason not to try :)\n",
        "Choose **one of the libraries** and fulfill the requirements to get full points:\n",
        "1. If you choose [FAISS](https://faiss.ai/). Get started with [installation](https://faiss.ai/#install) and this [tutorial](https://github.com/facebookresearch/faiss/wiki/Getting-started). To get full points your index must use [Product Quantization](https://github.com/facebookresearch/faiss/wiki/Lower-memory-footprint): 50 subvectors, 8 bits (1 byte) each. Use custom `nprobe` parameter equal to 23. Number or Voronoi cells is `65536`. Refer to [this document](https://github.com/facebookresearch/faiss/wiki/Guidelines-to-choose-an-index#if-1m---10m-ivf65536_hnsw32) to understand recommendations.\n",
        "2. If you use [HNSWlib](https://github.com/nmslib/hnswlib) (or [nmslib](https://github.com/nmslib/nmslib)) then follow these requirements. Use `cosine` metric for index construction, maximum number of outgoing connections (max outdegree) in the graph is 16, `ef` parameter at construction time should be `250`. Some useful information is given [here](https://github.com/nmslib/nmslib/blob/master/manual/methods.md).\n",
        "3. For [Annoy](https://github.com/spotify/annoy) you should use cosine distance for the space (if vectors are normed, you can use dot product intead), use all CPU cores at construction time. Build the index right on the disk, then load. Your index should consist of 37 trees.\n",
        "\n",
        "**NB** If you run on not-very-modern hardware (e.g. your RAM is less then 8GB), then you'd better reduce dataset size (e.g. take a specific region only like US east cost). You can also reduce other parameters only for the sake of RAM efficiency, but please specify and justify your decisions.\n",
        "\n",
        "e.g.\n",
        "```    \n",
        "roi = set(get_in_range([-68.645945, 43.163175], [-80.461502, 37.097044], spaidx, GEO))\n",
        "```\n",
        "\n",
        "\n",
        "**HINT** You can remove `embeddings` array and call `gc.collect()` before loading index to RAM.\n",
        "\n",
        "**HINT2** Should you index vectors with $[0]^N$ values?"
      ]
    },
    {
      "cell_type": "code",
      "source": [
        "# roi = set(get_in_range([-68.645945, 43.163175], [-80.461502, 37.097044], spaidx, GEO))"
      ],
      "metadata": {
        "id": "p7uVTR3t5L6a"
      },
      "id": "p7uVTR3t5L6a",
      "execution_count": 29,
      "outputs": []
    },
    {
      "cell_type": "code",
      "source": [
        "# !pip install faiss-cpu"
      ],
      "metadata": {
        "id": "blUFwOm7cxK5"
      },
      "id": "blUFwOm7cxK5",
      "execution_count": 96,
      "outputs": []
    },
    {
      "cell_type": "code",
      "source": [
        "import faiss"
      ],
      "metadata": {
        "id": "rVuROKs8citw"
      },
      "id": "rVuROKs8citw",
      "execution_count": 30,
      "outputs": []
    },
    {
      "cell_type": "code",
      "execution_count": 31,
      "id": "d07f72e7-533b-43b7-beb1-dd50f4580ee5",
      "metadata": {
        "id": "d07f72e7-533b-43b7-beb1-dd50f4580ee5"
      },
      "outputs": [],
      "source": [
        "embedding_index = None"
      ]
    },
    {
      "cell_type": "code",
      "execution_count": 34,
      "id": "7b1a228f-4b29-4bee-af78-79fa0df6eee9",
      "metadata": {
        "id": "7b1a228f-4b29-4bee-af78-79fa0df6eee9"
      },
      "outputs": [],
      "source": [
        "import numpy as np\n",
        "\n",
        "def get_vector_index():\n",
        "    # TODO returns index object\n",
        "    quantizer = faiss.IndexFlatL2(300)\n",
        "    index = faiss.IndexIVFFlat(quantizer, 300, 65536)   # build the index\n",
        "    faiss.ParameterSpace().set_index_parameter(index, \"nprobe\", 23);\n",
        "    index.add(x=embeddings)\n",
        "    return index\n",
        "\n",
        "def get_kNN_embeddings(embedding, k, index):\n",
        "    D, I = index.search(embedding, k)\n",
        "    return I"
      ]
    },
    {
      "cell_type": "code",
      "source": [
        "del embeddings\n",
        "gc.collect()"
      ],
      "metadata": {
        "id": "ugK0Dhs47Tyf"
      },
      "id": "ugK0Dhs47Tyf",
      "execution_count": null,
      "outputs": []
    },
    {
      "cell_type": "code",
      "execution_count": 35,
      "id": "3a4c7c11-1fee-42b2-b8f8-c600928bd6b6",
      "metadata": {
        "colab": {
          "base_uri": "https://localhost:8080/",
          "height": 288
        },
        "id": "3a4c7c11-1fee-42b2-b8f8-c600928bd6b6",
        "outputId": "8a173a46-5345-464b-a9ee-cffc42e845c1"
      },
      "outputs": [
        {
          "output_type": "error",
          "ename": "NameError",
          "evalue": "ignored",
          "traceback": [
            "\u001b[0;31m---------------------------------------------------------------------------\u001b[0m",
            "\u001b[0;31mNameError\u001b[0m                                 Traceback (most recent call last)",
            "\u001b[0;32m<ipython-input-35-6ea299ba5741>\u001b[0m in \u001b[0;36m<cell line: 1>\u001b[0;34m()\u001b[0m\n\u001b[0;32m----> 1\u001b[0;31m \u001b[0membedding_index\u001b[0m \u001b[0;34m=\u001b[0m \u001b[0mget_vector_index\u001b[0m\u001b[0;34m(\u001b[0m\u001b[0;34m)\u001b[0m\u001b[0;34m\u001b[0m\u001b[0;34m\u001b[0m\u001b[0m\n\u001b[0m",
            "\u001b[0;32m<ipython-input-34-6a9995b79346>\u001b[0m in \u001b[0;36mget_vector_index\u001b[0;34m()\u001b[0m\n\u001b[1;32m      6\u001b[0m     \u001b[0mindex\u001b[0m \u001b[0;34m=\u001b[0m \u001b[0mfaiss\u001b[0m\u001b[0;34m.\u001b[0m\u001b[0mIndexIVFFlat\u001b[0m\u001b[0;34m(\u001b[0m\u001b[0mquantizer\u001b[0m\u001b[0;34m,\u001b[0m \u001b[0;36m300\u001b[0m\u001b[0;34m,\u001b[0m \u001b[0;36m65536\u001b[0m\u001b[0;34m)\u001b[0m   \u001b[0;31m# build the index\u001b[0m\u001b[0;34m\u001b[0m\u001b[0;34m\u001b[0m\u001b[0m\n\u001b[1;32m      7\u001b[0m     \u001b[0mfaiss\u001b[0m\u001b[0;34m.\u001b[0m\u001b[0mParameterSpace\u001b[0m\u001b[0;34m(\u001b[0m\u001b[0;34m)\u001b[0m\u001b[0;34m.\u001b[0m\u001b[0mset_index_parameter\u001b[0m\u001b[0;34m(\u001b[0m\u001b[0mindex\u001b[0m\u001b[0;34m,\u001b[0m \u001b[0;34m\"nprobe\"\u001b[0m\u001b[0;34m,\u001b[0m \u001b[0;36m23\u001b[0m\u001b[0;34m)\u001b[0m\u001b[0;34m;\u001b[0m\u001b[0;34m\u001b[0m\u001b[0;34m\u001b[0m\u001b[0m\n\u001b[0;32m----> 8\u001b[0;31m     \u001b[0mindex\u001b[0m\u001b[0;34m.\u001b[0m\u001b[0madd\u001b[0m\u001b[0;34m(\u001b[0m\u001b[0mx\u001b[0m\u001b[0;34m=\u001b[0m\u001b[0membeddings\u001b[0m\u001b[0;34m)\u001b[0m\u001b[0;34m\u001b[0m\u001b[0;34m\u001b[0m\u001b[0m\n\u001b[0m\u001b[1;32m      9\u001b[0m     \u001b[0;32mreturn\u001b[0m \u001b[0mindex\u001b[0m\u001b[0;34m\u001b[0m\u001b[0;34m\u001b[0m\u001b[0m\n\u001b[1;32m     10\u001b[0m \u001b[0;34m\u001b[0m\u001b[0m\n",
            "\u001b[0;31mNameError\u001b[0m: name 'embeddings' is not defined"
          ]
        }
      ],
      "source": [
        "embedding_index = get_vector_index()"
      ]
    },
    {
      "cell_type": "code",
      "execution_count": null,
      "id": "5600f9a9-2713-4e43-832c-55dc4b4219be",
      "metadata": {
        "tags": [],
        "id": "5600f9a9-2713-4e43-832c-55dc4b4219be"
      },
      "outputs": [],
      "source": [
        "result = get_kNN_embeddings(embed('pharmacy', nlp), 1000, embedding_index)\n",
        "assert len(result) == 1000"
      ]
    },
    {
      "cell_type": "markdown",
      "id": "4a5e690d-a6f8-4c9a-8a89-eb02aabbc690",
      "metadata": {
        "id": "4a5e690d-a6f8-4c9a-8a89-eb02aabbc690"
      },
      "source": [
        "# 4. [5 points] And now we want to have this together!\n",
        "\n",
        "Say no more:"
      ]
    },
    {
      "cell_type": "code",
      "execution_count": null,
      "id": "e7dd5aab-f429-4d51-8691-2fd497c23d60",
      "metadata": {
        "id": "e7dd5aab-f429-4d51-8691-2fd497c23d60"
      },
      "outputs": [],
      "source": [
        "def find(town, query) -> list:\n",
        "    # TODO should return list of data items, with coordinates and texts"
      ]
    },
    {
      "cell_type": "code",
      "execution_count": null,
      "id": "0ce6d2a8-afb3-4ebd-8669-5d49a977808b",
      "metadata": {
        "id": "0ce6d2a8-afb3-4ebd-8669-5d49a977808b",
        "outputId": "c599135f-8821-4577-ba77-d24540aa8a06"
      },
      "outputs": [
        {
          "name": "stdout",
          "output_type": "stream",
          "text": [
            "Cache Hit!\n",
            "[([-73.988956, 40.723471], 'Naturo Medical Health Care PC, Health Services, Doctor. US, New York, 39 E 1 St'), ([-73.982753, 40.733923], 'Jane Algus, Health Services, Doctor. US, New York, 301 E 17 St'), ([-73.996201, 40.713591], 'Lower East Side Svc Ctr, Health Services, Hospital. US, New York, 62 E Broadway'), ([-74.009347, 40.709391], 'David Sprung DDS, Health Services, Doctor. US, New York, 6 Maiden Ln'), ([-73.987968, 40.723942], 'Perfect Body Health System, Health Services, Health Practitioner. US, New York, 25 1 Ave'), ([-73.982753, 40.733923], 'Anthony Antonacci MD, Health Services, Doctor. US, New York, 350 E 17 St'), ([-74.003332, 40.729397], 'Limphedema Preventive Care, Health Services, Clinic. US, New York, 10 Downing St'), ([-73.982753, 40.733923], 'Miriam Lane MD, Health Services, Doctor. US, New York, 301 E 17 St'), ([-74.002307, 40.715365], 'N Y City Health & Hospital, Health Services, Hospital. US, New York, 125 Worth St'), ([-73.989031, 40.714225], 'Joseph Ahram, Health Services, Doctor. US, New York, 212 E Broadway'), ([-74.008494, 40.733205], 'Mary M Frederick, Health Services, Health Practitioner. US, New York, 653 Washington St'), ([-73.997261, 40.716129], 'New Yorker Dental Care Inc, Health Services, Doctor. US, New York, 13 Elizabeth St'), ([-73.987968, 40.723942], 'Norman J Chideckel MD, Health Services, Doctor. US, New York, 41 1 Ave'), ([-73.994751, 40.727819], 'New York City Voices, Health Services, Hospital. US, New York, 666 Broadway'), ([-74.00865, 40.70985], 'Financial District Chiro Ofc, Health Services, Chiropractor. US, New York, 11 John St'), ([-73.990945, 40.733978], 'Union Sq Rhblttion Spt Injries, Health Services, Doctor. US, New York, 826 Broadway'), ([-73.991035, 40.724028], 'Abramson Steven B, Health Services, Doctor. US, New York, 305 2 Ave'), ([-74.010116, 40.709469], 'Reliable Community Care Inc, Health Services, Clinic. US, New York, 160 Broadway'), ([-73.990957, 40.734086], 'Frederick James DC, Health Services, Chiropractor. US, New York, 853 Broadway'), ([-74.000893, 40.73339], 'Lindamood-Bell Lrng Processes, Health Services, Clinic. US, New York, 153 Waverly Pl')]\n"
          ]
        }
      ],
      "source": [
        "items = find('Manhattan downtown', 'hospital')\n",
        "print(items[:20])\n",
        "xy = np.array([row[0] for row in items])"
      ]
    },
    {
      "cell_type": "code",
      "execution_count": null,
      "id": "505b66ed-e15a-4003-809f-67f6bc585b02",
      "metadata": {
        "id": "505b66ed-e15a-4003-809f-67f6bc585b02",
        "outputId": "a45ce386-fa02-41ac-ef24-6c5e935ed677"
      },
      "outputs": [
        {
          "name": "stdout",
          "output_type": "stream",
          "text": [
            "Cache Hit!\n"
          ]
        },
        {
          "data": {
            "image/png": "[encoded data removed]",
            "text/plain": [
              "<Figure size 1080x576 with 1 Axes>"
            ]
          },
          "metadata": {
            "needs_background": "light"
          },
          "output_type": "display_data"
        }
      ],
      "source": [
        "NE, SW = get_town_range_coordinates_cached('Manhattan downtown', my_google_maps_api_key)\n",
        "draw_earth(xlim=(SW[0] - 5, NE[0] + 5), ylim=(SW[1] - 5, NE[1] + 5))\n",
        "plt.scatter(xy[:, 0], xy[:, 1])\n",
        "plt.show()"
      ]
    }
  ],
  "metadata": {
    "kernelspec": {
      "display_name": "Python 3 (ipykernel)",
      "language": "python",
      "name": "python3"
    },
    "language_info": {
      "codemirror_mode": {
        "name": "ipython",
        "version": 3
      },
      "file_extension": ".py",
      "mimetype": "text/x-python",
      "name": "python",
      "nbconvert_exporter": "python",
      "pygments_lexer": "ipython3",
      "version": "3.9.7"
    },
    "colab": {
      "provenance": []
    }
  },
  "nbformat": 4,
  "nbformat_minor": 5
}